{
  "cells": [
    {
      "cell_type": "markdown",
      "metadata": {
        "id": "XzWjvSrr2XH2"
      },
      "source": [
        "# Conjunto de Dados\n",
        "\n",
        "O dataset utilizado é o [GTZAN Dataset](https://www.kaggle.com/datasets/andradaolteanu/gtzan-dataset-music-genre-classification), um conjunto de dados com 1000 faixas de áudio com 30 segundos de duração cada separados em 10 gêneros musicais, cada um com 100 faixas. As faixas estão no formato .wav e codificadas em mono 16-bits 22.050Hz. Os gêneros das faixas são: Blues, clássica, country, disco, hiphop, jazz, metal, raggae e rock.\n"
      ]
    },
    {
      "cell_type": "markdown",
      "metadata": {
        "id": "tO8xI9noMKWv"
      },
      "source": [
        "##Instalando a API do Kaggle\n"
      ]
    },
    {
      "cell_type": "code",
      "execution_count": null,
      "metadata": {
        "colab": {
          "base_uri": "https://localhost:8080/",
          "height": 90
        },
        "id": "-9r2Na3wRo21",
        "outputId": "2f1235f4-bd0c-4fca-d568-820e2e40a15c"
      },
      "outputs": [
        {
          "data": {
            "text/html": [
              "\n",
              "     <input type=\"file\" id=\"files-e78e2b05-16da-4148-8fa3-5e8c88ca127f\" name=\"files[]\" multiple disabled\n",
              "        style=\"border:none\" />\n",
              "     <output id=\"result-e78e2b05-16da-4148-8fa3-5e8c88ca127f\">\n",
              "      Upload widget is only available when the cell has been executed in the\n",
              "      current browser session. Please rerun this cell to enable.\n",
              "      </output>\n",
              "      <script>// Copyright 2017 Google LLC\n",
              "//\n",
              "// Licensed under the Apache License, Version 2.0 (the \"License\");\n",
              "// you may not use this file except in compliance with the License.\n",
              "// You may obtain a copy of the License at\n",
              "//\n",
              "//      http://www.apache.org/licenses/LICENSE-2.0\n",
              "//\n",
              "// Unless required by applicable law or agreed to in writing, software\n",
              "// distributed under the License is distributed on an \"AS IS\" BASIS,\n",
              "// WITHOUT WARRANTIES OR CONDITIONS OF ANY KIND, either express or implied.\n",
              "// See the License for the specific language governing permissions and\n",
              "// limitations under the License.\n",
              "\n",
              "/**\n",
              " * @fileoverview Helpers for google.colab Python module.\n",
              " */\n",
              "(function(scope) {\n",
              "function span(text, styleAttributes = {}) {\n",
              "  const element = document.createElement('span');\n",
              "  element.textContent = text;\n",
              "  for (const key of Object.keys(styleAttributes)) {\n",
              "    element.style[key] = styleAttributes[key];\n",
              "  }\n",
              "  return element;\n",
              "}\n",
              "\n",
              "// Max number of bytes which will be uploaded at a time.\n",
              "const MAX_PAYLOAD_SIZE = 100 * 1024;\n",
              "\n",
              "function _uploadFiles(inputId, outputId) {\n",
              "  const steps = uploadFilesStep(inputId, outputId);\n",
              "  const outputElement = document.getElementById(outputId);\n",
              "  // Cache steps on the outputElement to make it available for the next call\n",
              "  // to uploadFilesContinue from Python.\n",
              "  outputElement.steps = steps;\n",
              "\n",
              "  return _uploadFilesContinue(outputId);\n",
              "}\n",
              "\n",
              "// This is roughly an async generator (not supported in the browser yet),\n",
              "// where there are multiple asynchronous steps and the Python side is going\n",
              "// to poll for completion of each step.\n",
              "// This uses a Promise to block the python side on completion of each step,\n",
              "// then passes the result of the previous step as the input to the next step.\n",
              "function _uploadFilesContinue(outputId) {\n",
              "  const outputElement = document.getElementById(outputId);\n",
              "  const steps = outputElement.steps;\n",
              "\n",
              "  const next = steps.next(outputElement.lastPromiseValue);\n",
              "  return Promise.resolve(next.value.promise).then((value) => {\n",
              "    // Cache the last promise value to make it available to the next\n",
              "    // step of the generator.\n",
              "    outputElement.lastPromiseValue = value;\n",
              "    return next.value.response;\n",
              "  });\n",
              "}\n",
              "\n",
              "/**\n",
              " * Generator function which is called between each async step of the upload\n",
              " * process.\n",
              " * @param {string} inputId Element ID of the input file picker element.\n",
              " * @param {string} outputId Element ID of the output display.\n",
              " * @return {!Iterable<!Object>} Iterable of next steps.\n",
              " */\n",
              "function* uploadFilesStep(inputId, outputId) {\n",
              "  const inputElement = document.getElementById(inputId);\n",
              "  inputElement.disabled = false;\n",
              "\n",
              "  const outputElement = document.getElementById(outputId);\n",
              "  outputElement.innerHTML = '';\n",
              "\n",
              "  const pickedPromise = new Promise((resolve) => {\n",
              "    inputElement.addEventListener('change', (e) => {\n",
              "      resolve(e.target.files);\n",
              "    });\n",
              "  });\n",
              "\n",
              "  const cancel = document.createElement('button');\n",
              "  inputElement.parentElement.appendChild(cancel);\n",
              "  cancel.textContent = 'Cancel upload';\n",
              "  const cancelPromise = new Promise((resolve) => {\n",
              "    cancel.onclick = () => {\n",
              "      resolve(null);\n",
              "    };\n",
              "  });\n",
              "\n",
              "  // Wait for the user to pick the files.\n",
              "  const files = yield {\n",
              "    promise: Promise.race([pickedPromise, cancelPromise]),\n",
              "    response: {\n",
              "      action: 'starting',\n",
              "    }\n",
              "  };\n",
              "\n",
              "  cancel.remove();\n",
              "\n",
              "  // Disable the input element since further picks are not allowed.\n",
              "  inputElement.disabled = true;\n",
              "\n",
              "  if (!files) {\n",
              "    return {\n",
              "      response: {\n",
              "        action: 'complete',\n",
              "      }\n",
              "    };\n",
              "  }\n",
              "\n",
              "  for (const file of files) {\n",
              "    const li = document.createElement('li');\n",
              "    li.append(span(file.name, {fontWeight: 'bold'}));\n",
              "    li.append(span(\n",
              "        `(${file.type || 'n/a'}) - ${file.size} bytes, ` +\n",
              "        `last modified: ${\n",
              "            file.lastModifiedDate ? file.lastModifiedDate.toLocaleDateString() :\n",
              "                                    'n/a'} - `));\n",
              "    const percent = span('0% done');\n",
              "    li.appendChild(percent);\n",
              "\n",
              "    outputElement.appendChild(li);\n",
              "\n",
              "    const fileDataPromise = new Promise((resolve) => {\n",
              "      const reader = new FileReader();\n",
              "      reader.onload = (e) => {\n",
              "        resolve(e.target.result);\n",
              "      };\n",
              "      reader.readAsArrayBuffer(file);\n",
              "    });\n",
              "    // Wait for the data to be ready.\n",
              "    let fileData = yield {\n",
              "      promise: fileDataPromise,\n",
              "      response: {\n",
              "        action: 'continue',\n",
              "      }\n",
              "    };\n",
              "\n",
              "    // Use a chunked sending to avoid message size limits. See b/62115660.\n",
              "    let position = 0;\n",
              "    do {\n",
              "      const length = Math.min(fileData.byteLength - position, MAX_PAYLOAD_SIZE);\n",
              "      const chunk = new Uint8Array(fileData, position, length);\n",
              "      position += length;\n",
              "\n",
              "      const base64 = btoa(String.fromCharCode.apply(null, chunk));\n",
              "      yield {\n",
              "        response: {\n",
              "          action: 'append',\n",
              "          file: file.name,\n",
              "          data: base64,\n",
              "        },\n",
              "      };\n",
              "\n",
              "      let percentDone = fileData.byteLength === 0 ?\n",
              "          100 :\n",
              "          Math.round((position / fileData.byteLength) * 100);\n",
              "      percent.textContent = `${percentDone}% done`;\n",
              "\n",
              "    } while (position < fileData.byteLength);\n",
              "  }\n",
              "\n",
              "  // All done.\n",
              "  yield {\n",
              "    response: {\n",
              "      action: 'complete',\n",
              "    }\n",
              "  };\n",
              "}\n",
              "\n",
              "scope.google = scope.google || {};\n",
              "scope.google.colab = scope.google.colab || {};\n",
              "scope.google.colab._files = {\n",
              "  _uploadFiles,\n",
              "  _uploadFilesContinue,\n",
              "};\n",
              "})(self);\n",
              "</script> "
            ],
            "text/plain": [
              "<IPython.core.display.HTML object>"
            ]
          },
          "metadata": {},
          "output_type": "display_data"
        },
        {
          "name": "stdout",
          "output_type": "stream",
          "text": [
            "Saving kaggle.json to kaggle.json\n"
          ]
        },
        {
          "data": {
            "text/plain": [
              "{'kaggle.json': b'{\"username\":\"kenzoinanamidefaria\",\"key\":\"498b3c4fc8eefc02f2aa857d32afce48\"}'}"
            ]
          },
          "execution_count": 1,
          "metadata": {},
          "output_type": "execute_result"
        }
      ],
      "source": [
        "from google.colab import files\n",
        "\n",
        "files.upload()"
      ]
    },
    {
      "cell_type": "code",
      "execution_count": null,
      "metadata": {
        "id": "DFKoWUobRuTt"
      },
      "outputs": [],
      "source": [
        "!mkdir ~/.kaggle\n",
        "!cp kaggle.json ~/.kaggle/\n",
        "! chmod 600 ~/.kaggle/kaggle.json"
      ]
    },
    {
      "cell_type": "markdown",
      "metadata": {
        "id": "Ih40WbkUMQrZ"
      },
      "source": [
        "Baixando o conjunto de dados\n"
      ]
    },
    {
      "cell_type": "code",
      "execution_count": null,
      "metadata": {
        "colab": {
          "base_uri": "https://localhost:8080/"
        },
        "id": "781p1g1IMJVd",
        "outputId": "fbd93853-5e64-4282-8528-230585ea376c"
      },
      "outputs": [
        {
          "name": "stdout",
          "output_type": "stream",
          "text": [
            "Downloading gtzan-dataset-music-genre-classification.zip to /content\n",
            "100% 1.21G/1.21G [00:31<00:00, 41.3MB/s]\n",
            "100% 1.21G/1.21G [00:31<00:00, 41.6MB/s]\n"
          ]
        }
      ],
      "source": [
        "!kaggle datasets download -d andradaolteanu/gtzan-dataset-music-genre-classification"
      ]
    },
    {
      "cell_type": "code",
      "execution_count": null,
      "metadata": {
        "id": "pSlFOeAGWDtz"
      },
      "outputs": [],
      "source": [
        "!unzip *.zip"
      ]
    },
    {
      "cell_type": "markdown",
      "metadata": {
        "id": "0qiO483pnYPS"
      },
      "source": [
        "## Extraindo informações do áudio\n"
      ]
    },
    {
      "cell_type": "markdown",
      "metadata": {
        "id": "pYlSvmEJ_izT"
      },
      "source": [
        "Para utilizar uma CNN, espectrogramas foram gerados a partir das faixas de áudio para sua análise e processamento.\n",
        "\n",
        "Espectrogramas são gráficos que mostram a intensidade de som e suas diferentes frequências em um determinado período de tempo.\n"
      ]
    },
    {
      "cell_type": "code",
      "execution_count": null,
      "metadata": {
        "colab": {
          "base_uri": "https://localhost:8080/"
        },
        "id": "KAM9i_IGv6Gm",
        "outputId": "050d735a-0b19-488a-e75a-8f73f393b1cd"
      },
      "outputs": [
        {
          "name": "stdout",
          "output_type": "stream",
          "text": [
            "blues\n",
            "classical\n",
            "country\n",
            "disco\n",
            "hiphop\n",
            "jazz\n"
          ]
        },
        {
          "name": "stderr",
          "output_type": "stream",
          "text": [
            "<ipython-input-6-8977e3cf422d>:27: UserWarning: PySoundFile failed. Trying audioread instead.\n",
            "  y, sr = librosa.load(audio_path)\n",
            "/usr/local/lib/python3.10/dist-packages/librosa/core/audio.py:183: FutureWarning: librosa.core.audio.__audioread_load\n",
            "\tDeprecated as of librosa version 0.10.0.\n",
            "\tIt will be removed in librosa version 1.0.\n",
            "  y, sr_native = __audioread_load(path, offset, duration, dtype)\n"
          ]
        },
        {
          "name": "stdout",
          "output_type": "stream",
          "text": [
            "Erro em Data/genres_original/jazz/jazz.00054.wav\n",
            "metal\n",
            "pop\n",
            "reggae\n",
            "rock\n",
            "Espectrogramas gerados e salvos com sucesso!\n"
          ]
        }
      ],
      "source": [
        "import numpy as np\n",
        "import os\n",
        "import librosa\n",
        "import librosa.display\n",
        "import matplotlib.pyplot as plt\n",
        "import imageio\n",
        "\n",
        "root_dir = 'Data/genres_original'\n",
        "output_dir = 'spectrograms'\n",
        "\n",
        "genres = ['blues', 'classical', 'country', 'disco', 'hiphop', 'jazz', 'metal', 'pop', 'reggae', 'rock']\n",
        "\n",
        "\n",
        "n_mels = 128\n",
        "hop_length = 512\n",
        "n_fft = 2048\n",
        "segment_duration = 3\n",
        "images = []\n",
        "labels = []\n",
        "for genre in genres:\n",
        "    genre_dir = os.path.join(root_dir, genre)\n",
        "    label = genre\n",
        "    print(genre)\n",
        "    for filename in os.listdir(genre_dir):\n",
        "        audio_path = os.path.join(genre_dir, filename)\n",
        "        try:\n",
        "          y, sr = librosa.load(audio_path)\n",
        "\n",
        "          segment_length = segment_duration * sr\n",
        "          n_samples = len(y)\n",
        "          start_sample = 0\n",
        "          for i in range(10):\n",
        "              start_sample = np.random.randint(0, n_samples - segment_length)\n",
        "              end_sample = int(start_sample + segment_length)\n",
        "              segment = y[start_sample:end_sample]\n",
        "\n",
        "              mel_spec = librosa.feature.melspectrogram(y=segment, sr=sr, n_mels=n_mels,\n",
        "                                                        hop_length=hop_length, n_fft=n_fft)\n",
        "              log_mel_spec = librosa.power_to_db(mel_spec, ref=np.max)\n",
        "              images.append(log_mel_spec)\n",
        "              labels.append(label)\n",
        "              start_sample = end_sample\n",
        "        except:\n",
        "          print(\"Erro em \"+audio_path)\n",
        "\n",
        "print(\"Espectrogramas gerados e salvos com sucesso!\")\n"
      ]
    },
    {
      "cell_type": "code",
      "execution_count": null,
      "metadata": {
        "colab": {
          "base_uri": "https://localhost:8080/",
          "height": 206
        },
        "id": "4O87QenO-jFp",
        "outputId": "ad562a01-bda0-402a-ea02-365b74b8cc59"
      },
      "outputs": [
        {
          "data": {
            "text/html": [
              "\n",
              "  <div id=\"df-3321ec3e-4b87-41d8-bba6-60e2a25d3553\" class=\"colab-df-container\">\n",
              "    <div>\n",
              "<style scoped>\n",
              "    .dataframe tbody tr th:only-of-type {\n",
              "        vertical-align: middle;\n",
              "    }\n",
              "\n",
              "    .dataframe tbody tr th {\n",
              "        vertical-align: top;\n",
              "    }\n",
              "\n",
              "    .dataframe thead th {\n",
              "        text-align: right;\n",
              "    }\n",
              "</style>\n",
              "<table border=\"1\" class=\"dataframe\">\n",
              "  <thead>\n",
              "    <tr style=\"text-align: right;\">\n",
              "      <th></th>\n",
              "      <th>Spectrograms</th>\n",
              "      <th>Labels</th>\n",
              "    </tr>\n",
              "  </thead>\n",
              "  <tbody>\n",
              "    <tr>\n",
              "      <th>0</th>\n",
              "      <td>[[-37.840813, -34.649063, -26.941582, -26.0221...</td>\n",
              "      <td>blues</td>\n",
              "    </tr>\n",
              "    <tr>\n",
              "      <th>1</th>\n",
              "      <td>[[-13.294512, -13.652378, -16.593456, -21.5957...</td>\n",
              "      <td>blues</td>\n",
              "    </tr>\n",
              "    <tr>\n",
              "      <th>2</th>\n",
              "      <td>[[-21.824846, -20.979923, -22.00462, -20.10903...</td>\n",
              "      <td>blues</td>\n",
              "    </tr>\n",
              "    <tr>\n",
              "      <th>3</th>\n",
              "      <td>[[-24.147852, -29.25016, -40.832737, -33.93087...</td>\n",
              "      <td>blues</td>\n",
              "    </tr>\n",
              "    <tr>\n",
              "      <th>4</th>\n",
              "      <td>[[-28.702051, -34.46402, -32.883675, -30.86120...</td>\n",
              "      <td>blues</td>\n",
              "    </tr>\n",
              "  </tbody>\n",
              "</table>\n",
              "</div>\n",
              "    <div class=\"colab-df-buttons\">\n",
              "\n",
              "  <div class=\"colab-df-container\">\n",
              "    <button class=\"colab-df-convert\" onclick=\"convertToInteractive('df-3321ec3e-4b87-41d8-bba6-60e2a25d3553')\"\n",
              "            title=\"Convert this dataframe to an interactive table.\"\n",
              "            style=\"display:none;\">\n",
              "\n",
              "  <svg xmlns=\"http://www.w3.org/2000/svg\" height=\"24px\" viewBox=\"0 -960 960 960\">\n",
              "    <path d=\"M120-120v-720h720v720H120Zm60-500h600v-160H180v160Zm220 220h160v-160H400v160Zm0 220h160v-160H400v160ZM180-400h160v-160H180v160Zm440 0h160v-160H620v160ZM180-180h160v-160H180v160Zm440 0h160v-160H620v160Z\"/>\n",
              "  </svg>\n",
              "    </button>\n",
              "\n",
              "  <style>\n",
              "    .colab-df-container {\n",
              "      display:flex;\n",
              "      gap: 12px;\n",
              "    }\n",
              "\n",
              "    .colab-df-convert {\n",
              "      background-color: #E8F0FE;\n",
              "      border: none;\n",
              "      border-radius: 50%;\n",
              "      cursor: pointer;\n",
              "      display: none;\n",
              "      fill: #1967D2;\n",
              "      height: 32px;\n",
              "      padding: 0 0 0 0;\n",
              "      width: 32px;\n",
              "    }\n",
              "\n",
              "    .colab-df-convert:hover {\n",
              "      background-color: #E2EBFA;\n",
              "      box-shadow: 0px 1px 2px rgba(60, 64, 67, 0.3), 0px 1px 3px 1px rgba(60, 64, 67, 0.15);\n",
              "      fill: #174EA6;\n",
              "    }\n",
              "\n",
              "    .colab-df-buttons div {\n",
              "      margin-bottom: 4px;\n",
              "    }\n",
              "\n",
              "    [theme=dark] .colab-df-convert {\n",
              "      background-color: #3B4455;\n",
              "      fill: #D2E3FC;\n",
              "    }\n",
              "\n",
              "    [theme=dark] .colab-df-convert:hover {\n",
              "      background-color: #434B5C;\n",
              "      box-shadow: 0px 1px 3px 1px rgba(0, 0, 0, 0.15);\n",
              "      filter: drop-shadow(0px 1px 2px rgba(0, 0, 0, 0.3));\n",
              "      fill: #FFFFFF;\n",
              "    }\n",
              "  </style>\n",
              "\n",
              "    <script>\n",
              "      const buttonEl =\n",
              "        document.querySelector('#df-3321ec3e-4b87-41d8-bba6-60e2a25d3553 button.colab-df-convert');\n",
              "      buttonEl.style.display =\n",
              "        google.colab.kernel.accessAllowed ? 'block' : 'none';\n",
              "\n",
              "      async function convertToInteractive(key) {\n",
              "        const element = document.querySelector('#df-3321ec3e-4b87-41d8-bba6-60e2a25d3553');\n",
              "        const dataTable =\n",
              "          await google.colab.kernel.invokeFunction('convertToInteractive',\n",
              "                                                    [key], {});\n",
              "        if (!dataTable) return;\n",
              "\n",
              "        const docLinkHtml = 'Like what you see? Visit the ' +\n",
              "          '<a target=\"_blank\" href=https://colab.research.google.com/notebooks/data_table.ipynb>data table notebook</a>'\n",
              "          + ' to learn more about interactive tables.';\n",
              "        element.innerHTML = '';\n",
              "        dataTable['output_type'] = 'display_data';\n",
              "        await google.colab.output.renderOutput(dataTable, element);\n",
              "        const docLink = document.createElement('div');\n",
              "        docLink.innerHTML = docLinkHtml;\n",
              "        element.appendChild(docLink);\n",
              "      }\n",
              "    </script>\n",
              "  </div>\n",
              "\n",
              "\n",
              "<div id=\"df-cf355a89-0e1f-49be-ae37-07d9ab840264\">\n",
              "  <button class=\"colab-df-quickchart\" onclick=\"quickchart('df-cf355a89-0e1f-49be-ae37-07d9ab840264')\"\n",
              "            title=\"Suggest charts\"\n",
              "            style=\"display:none;\">\n",
              "\n",
              "<svg xmlns=\"http://www.w3.org/2000/svg\" height=\"24px\"viewBox=\"0 0 24 24\"\n",
              "     width=\"24px\">\n",
              "    <g>\n",
              "        <path d=\"M19 3H5c-1.1 0-2 .9-2 2v14c0 1.1.9 2 2 2h14c1.1 0 2-.9 2-2V5c0-1.1-.9-2-2-2zM9 17H7v-7h2v7zm4 0h-2V7h2v10zm4 0h-2v-4h2v4z\"/>\n",
              "    </g>\n",
              "</svg>\n",
              "  </button>\n",
              "\n",
              "<style>\n",
              "  .colab-df-quickchart {\n",
              "      --bg-color: #E8F0FE;\n",
              "      --fill-color: #1967D2;\n",
              "      --hover-bg-color: #E2EBFA;\n",
              "      --hover-fill-color: #174EA6;\n",
              "      --disabled-fill-color: #AAA;\n",
              "      --disabled-bg-color: #DDD;\n",
              "  }\n",
              "\n",
              "  [theme=dark] .colab-df-quickchart {\n",
              "      --bg-color: #3B4455;\n",
              "      --fill-color: #D2E3FC;\n",
              "      --hover-bg-color: #434B5C;\n",
              "      --hover-fill-color: #FFFFFF;\n",
              "      --disabled-bg-color: #3B4455;\n",
              "      --disabled-fill-color: #666;\n",
              "  }\n",
              "\n",
              "  .colab-df-quickchart {\n",
              "    background-color: var(--bg-color);\n",
              "    border: none;\n",
              "    border-radius: 50%;\n",
              "    cursor: pointer;\n",
              "    display: none;\n",
              "    fill: var(--fill-color);\n",
              "    height: 32px;\n",
              "    padding: 0;\n",
              "    width: 32px;\n",
              "  }\n",
              "\n",
              "  .colab-df-quickchart:hover {\n",
              "    background-color: var(--hover-bg-color);\n",
              "    box-shadow: 0 1px 2px rgba(60, 64, 67, 0.3), 0 1px 3px 1px rgba(60, 64, 67, 0.15);\n",
              "    fill: var(--button-hover-fill-color);\n",
              "  }\n",
              "\n",
              "  .colab-df-quickchart-complete:disabled,\n",
              "  .colab-df-quickchart-complete:disabled:hover {\n",
              "    background-color: var(--disabled-bg-color);\n",
              "    fill: var(--disabled-fill-color);\n",
              "    box-shadow: none;\n",
              "  }\n",
              "\n",
              "  .colab-df-spinner {\n",
              "    border: 2px solid var(--fill-color);\n",
              "    border-color: transparent;\n",
              "    border-bottom-color: var(--fill-color);\n",
              "    animation:\n",
              "      spin 1s steps(1) infinite;\n",
              "  }\n",
              "\n",
              "  @keyframes spin {\n",
              "    0% {\n",
              "      border-color: transparent;\n",
              "      border-bottom-color: var(--fill-color);\n",
              "      border-left-color: var(--fill-color);\n",
              "    }\n",
              "    20% {\n",
              "      border-color: transparent;\n",
              "      border-left-color: var(--fill-color);\n",
              "      border-top-color: var(--fill-color);\n",
              "    }\n",
              "    30% {\n",
              "      border-color: transparent;\n",
              "      border-left-color: var(--fill-color);\n",
              "      border-top-color: var(--fill-color);\n",
              "      border-right-color: var(--fill-color);\n",
              "    }\n",
              "    40% {\n",
              "      border-color: transparent;\n",
              "      border-right-color: var(--fill-color);\n",
              "      border-top-color: var(--fill-color);\n",
              "    }\n",
              "    60% {\n",
              "      border-color: transparent;\n",
              "      border-right-color: var(--fill-color);\n",
              "    }\n",
              "    80% {\n",
              "      border-color: transparent;\n",
              "      border-right-color: var(--fill-color);\n",
              "      border-bottom-color: var(--fill-color);\n",
              "    }\n",
              "    90% {\n",
              "      border-color: transparent;\n",
              "      border-bottom-color: var(--fill-color);\n",
              "    }\n",
              "  }\n",
              "</style>\n",
              "\n",
              "  <script>\n",
              "    async function quickchart(key) {\n",
              "      const quickchartButtonEl =\n",
              "        document.querySelector('#' + key + ' button');\n",
              "      quickchartButtonEl.disabled = true;  // To prevent multiple clicks.\n",
              "      quickchartButtonEl.classList.add('colab-df-spinner');\n",
              "      try {\n",
              "        const charts = await google.colab.kernel.invokeFunction(\n",
              "            'suggestCharts', [key], {});\n",
              "      } catch (error) {\n",
              "        console.error('Error during call to suggestCharts:', error);\n",
              "      }\n",
              "      quickchartButtonEl.classList.remove('colab-df-spinner');\n",
              "      quickchartButtonEl.classList.add('colab-df-quickchart-complete');\n",
              "    }\n",
              "    (() => {\n",
              "      let quickchartButtonEl =\n",
              "        document.querySelector('#df-cf355a89-0e1f-49be-ae37-07d9ab840264 button');\n",
              "      quickchartButtonEl.style.display =\n",
              "        google.colab.kernel.accessAllowed ? 'block' : 'none';\n",
              "    })();\n",
              "  </script>\n",
              "</div>\n",
              "    </div>\n",
              "  </div>\n"
            ],
            "text/plain": [
              "                                        Spectrograms Labels\n",
              "0  [[-37.840813, -34.649063, -26.941582, -26.0221...  blues\n",
              "1  [[-13.294512, -13.652378, -16.593456, -21.5957...  blues\n",
              "2  [[-21.824846, -20.979923, -22.00462, -20.10903...  blues\n",
              "3  [[-24.147852, -29.25016, -40.832737, -33.93087...  blues\n",
              "4  [[-28.702051, -34.46402, -32.883675, -30.86120...  blues"
            ]
          },
          "execution_count": 7,
          "metadata": {},
          "output_type": "execute_result"
        }
      ],
      "source": [
        "import pandas as pd\n",
        "data = {'Spectrograms': images, 'Labels': labels}\n",
        "df = pd.DataFrame(data)\n",
        "df.head()"
      ]
    },
    {
      "cell_type": "code",
      "execution_count": null,
      "metadata": {
        "colab": {
          "base_uri": "https://localhost:8080/"
        },
        "id": "hyXzHKkehxgU",
        "outputId": "0784e022-5be1-4892-8728-44b1493b323b"
      },
      "outputs": [
        {
          "data": {
            "text/plain": [
              "(9990, 2)"
            ]
          },
          "execution_count": 10,
          "metadata": {},
          "output_type": "execute_result"
        }
      ],
      "source": [
        "df.shape"
      ]
    },
    {
      "cell_type": "code",
      "execution_count": null,
      "metadata": {
        "colab": {
          "base_uri": "https://localhost:8080/"
        },
        "id": "Vl-tJb55h8n2",
        "outputId": "3494359a-bf60-4933-b41c-6bd4e717e780"
      },
      "outputs": [
        {
          "data": {
            "text/plain": [
              "(128, 130)"
            ]
          },
          "execution_count": 12,
          "metadata": {},
          "output_type": "execute_result"
        }
      ],
      "source": [
        "df['Spectrograms'][0].shape"
      ]
    },
    {
      "cell_type": "markdown",
      "metadata": {
        "id": "QuZotX8OVAD5"
      },
      "source": [
        "Um exemplo da extração de segmentos de áudio e a criação de um espectrograma Mel.\n",
        "\n",
        "Esse tipo se difere de um espectrograma pois tem suas frequências convertidas para a escala de Mel, através de uma transformação logaritmica, para representar com mais importância as frequências audíveis pela audição humana.\n"
      ]
    },
    {
      "cell_type": "code",
      "execution_count": null,
      "metadata": {
        "colab": {
          "base_uri": "https://localhost:8080/",
          "height": 487
        },
        "id": "qiVuZg9XAccE",
        "outputId": "2f52d262-6c5e-4c9c-e86d-e37948fab23b"
      },
      "outputs": [
        {
          "data": {
            "image/png": "[encoded data removed]",
            "text/plain": [
              "<Figure size 640x480 with 2 Axes>"
            ]
          },
          "metadata": {},
          "output_type": "display_data"
        }
      ],
      "source": [
        "y, sr = librosa.load(audio_path, duration=segment_duration)\n",
        "mel_spec = librosa.feature.melspectrogram(y=y, sr=sr, n_mels=n_mels, hop_length=hop_length, n_fft=n_fft)\n",
        "log_mel_spec = librosa.power_to_db(mel_spec, ref=np.max)\n",
        "\n",
        "librosa.display.specshow(log_mel_spec, sr=sr, hop_length=hop_length, x_axis='time', y_axis='mel')\n",
        "plt.colorbar(format='%+2.0f dB')\n",
        "plt.title('Log Mel Spectrogram')\n",
        "plt.tight_layout()\n",
        "plt.show()\n"
      ]
    },
    {
      "cell_type": "code",
      "execution_count": null,
      "metadata": {
        "colab": {
          "base_uri": "https://localhost:8080/"
        },
        "id": "XJCooTtJXXuc",
        "outputId": "83971909-6059-4b7d-9e30-41bbed62d6fa"
      },
      "outputs": [
        {
          "data": {
            "text/plain": [
              "(128, 130)"
            ]
          },
          "execution_count": 11,
          "metadata": {},
          "output_type": "execute_result"
        }
      ],
      "source": [
        "df.iloc[0][0].shape"
      ]
    },
    {
      "cell_type": "code",
      "execution_count": null,
      "metadata": {
        "id": "e7YB1ZFpeXqA"
      },
      "outputs": [],
      "source": [
        "import numpy as np\n",
        "import os\n",
        "import cv2\n",
        "import pandas as pd\n",
        "import librosa\n",
        "from sklearn.model_selection import train_test_split\n",
        "from sklearn.preprocessing import LabelEncoder\n",
        "from tensorflow.keras.models import Sequential\n",
        "from tensorflow.keras.layers import Conv2D, MaxPooling2D, Flatten, Dense, Dropout\n",
        "import tensorflow as tf\n"
      ]
    },
    {
      "cell_type": "code",
      "execution_count": null,
      "metadata": {
        "id": "2z1hKi37eYdG"
      },
      "outputs": [],
      "source": [
        "segment_duration = 30\n",
        "n_mels = 128\n",
        "hop_length = 512\n",
        "n_fft = 1024\n"
      ]
    },
    {
      "cell_type": "markdown",
      "metadata": {
        "id": "JCQIJiTF4kTS"
      },
      "source": [
        "Divisão entre treino e teste com 20% dos dados utilizados para teste.\n",
        "\n",
        "A labels são convertidas para um formato numérico.\n"
      ]
    },
    {
      "cell_type": "code",
      "execution_count": null,
      "metadata": {
        "id": "tpaBT5Nbegtb"
      },
      "outputs": [],
      "source": [
        "df = df.sample(frac=1).reset_index(drop=True)\n",
        "images = np.array(df['Spectrograms'].tolist())\n",
        "labels = df['Labels'].tolist()\n",
        "\n",
        "label_encoder = LabelEncoder()\n",
        "encoded_labels = label_encoder.fit_transform(labels)\n",
        "\n",
        "X_train, X_test, y_train, y_test = train_test_split(images, encoded_labels, test_size=0.2, random_state=42)\n"
      ]
    },
    {
      "cell_type": "markdown",
      "metadata": {
        "id": "3m6bSiOr5FHP"
      },
      "source": [
        "A arquitetura deste modelo é caracterizada por uma sequencia de 3 camadas convolucionais, intercaladas por três max-pooling para a captura de padrões espaciais dos espectrogramas. São seguidas por uma camada dense com ativação ReLU, uma camada dropout para evitar overfitting e uma camada dense com ativação softmax. O modelo é então compilado com o otimizador adam e a acurácia é utilizada como medida de avaliação.\n"
      ]
    },
    {
      "cell_type": "code",
      "execution_count": null,
      "metadata": {
        "id": "5exGwdgreizm"
      },
      "outputs": [],
      "source": [
        "model = Sequential([\n",
        "    Conv2D(16, (7, 7), activation='relu', input_shape=(n_mels, X_train.shape[2], 1)),\n",
        "    MaxPooling2D((2, 2)),\n",
        "    Conv2D(32, (5, 5), activation='relu'),\n",
        "    MaxPooling2D((2, 2)),\n",
        "    Conv2D(32, (3, 3), activation='relu'),\n",
        "    MaxPooling2D((2, 2)),\n",
        "    Flatten(),\n",
        "    Dense(8, activation='relu'),\n",
        "    Dropout(0.2),\n",
        "    Dense(len(label_encoder.classes_), activation='softmax')  # Camada de saída\n",
        "])\n",
        "\n",
        "model.compile(optimizer='adam', loss='sparse_categorical_crossentropy', metrics=['accuracy'])\n"
      ]
    },
    {
      "cell_type": "code",
      "execution_count": null,
      "metadata": {
        "id": "3xRVeNQdGHjV"
      },
      "outputs": [],
      "source": [
        "X_train = X_train[..., np.newaxis]\n",
        "X_test = X_test[..., np.newaxis]"
      ]
    },
    {
      "cell_type": "markdown",
      "metadata": {
        "id": "Iv6XP42Q8Vci"
      },
      "source": [
        "Treino do modelo com 10 épocas e 10% separados para avaliação.\n"
      ]
    },
    {
      "cell_type": "code",
      "execution_count": null,
      "metadata": {
        "colab": {
          "base_uri": "https://localhost:8080/"
        },
        "id": "jQp2rYIFekKG",
        "outputId": "c2f1ad95-9849-40f2-f0db-a52e6ccede24"
      },
      "outputs": [
        {
          "name": "stdout",
          "output_type": "stream",
          "text": [
            "Epoch 1/10\n",
            "225/225 [==============================] - 9s 13ms/step - loss: 2.3214 - accuracy: 0.0934 - val_loss: 2.3028 - val_accuracy: 0.0887\n",
            "Epoch 2/10\n",
            "225/225 [==============================] - 2s 9ms/step - loss: 2.3027 - accuracy: 0.1000 - val_loss: 2.3032 - val_accuracy: 0.0887\n",
            "Epoch 3/10\n",
            "225/225 [==============================] - 2s 10ms/step - loss: 2.3027 - accuracy: 0.1030 - val_loss: 2.3034 - val_accuracy: 0.0887\n",
            "Epoch 4/10\n",
            "225/225 [==============================] - 2s 11ms/step - loss: 2.3027 - accuracy: 0.1009 - val_loss: 2.3034 - val_accuracy: 0.0887\n",
            "Epoch 5/10\n",
            "225/225 [==============================] - 2s 10ms/step - loss: 2.3027 - accuracy: 0.1030 - val_loss: 2.3037 - val_accuracy: 0.0887\n",
            "Epoch 6/10\n",
            "225/225 [==============================] - 2s 9ms/step - loss: 2.3027 - accuracy: 0.1012 - val_loss: 2.3037 - val_accuracy: 0.0887\n",
            "Epoch 7/10\n",
            "225/225 [==============================] - 2s 9ms/step - loss: 2.3027 - accuracy: 0.1030 - val_loss: 2.3038 - val_accuracy: 0.0887\n",
            "Epoch 8/10\n",
            "225/225 [==============================] - 2s 9ms/step - loss: 2.3027 - accuracy: 0.1030 - val_loss: 2.3035 - val_accuracy: 0.0887\n",
            "Epoch 9/10\n",
            "225/225 [==============================] - 2s 10ms/step - loss: 2.3026 - accuracy: 0.1009 - val_loss: 2.3037 - val_accuracy: 0.0887\n",
            "Epoch 10/10\n",
            "225/225 [==============================] - 2s 10ms/step - loss: 2.3027 - accuracy: 0.1030 - val_loss: 2.3037 - val_accuracy: 0.0887\n"
          ]
        },
        {
          "data": {
            "text/plain": [
              "<keras.src.callbacks.History at 0x7c9cd3103250>"
            ]
          },
          "execution_count": 17,
          "metadata": {},
          "output_type": "execute_result"
        }
      ],
      "source": [
        "model.fit(X_train, y_train, epochs=10, batch_size=32, validation_split=0.1)\n"
      ]
    },
    {
      "cell_type": "code",
      "execution_count": null,
      "metadata": {
        "colab": {
          "base_uri": "https://localhost:8080/"
        },
        "id": "xvhokxoofjTe",
        "outputId": "3f3d6de9-c868-4d7c-a521-47720f0ca38b"
      },
      "outputs": [
        {
          "name": "stdout",
          "output_type": "stream",
          "text": [
            "63/63 [==============================] - 1s 8ms/step - loss: 2.3032 - accuracy: 0.0941\n",
            "Test accuracy: 0.09409409761428833\n"
          ]
        }
      ],
      "source": [
        "test_loss, test_accuracy = model.evaluate(X_test, y_test)\n",
        "print(f\"Test accuracy: {test_accuracy}\")\n"
      ]
    },
    {
      "cell_type": "markdown",
      "metadata": {
        "id": "-vAnh7ndA1Vi"
      },
      "source": [
        "# Outros modelos testados\n"
      ]
    },
    {
      "cell_type": "markdown",
      "metadata": {
        "id": "8z3FeG8zBJ-6"
      },
      "source": [
        "## Modelo 2\n"
      ]
    },
    {
      "cell_type": "code",
      "execution_count": null,
      "metadata": {
        "id": "8dTBXkiMB8I8"
      },
      "outputs": [],
      "source": [
        "model = Sequential([\n",
        "    Conv2D(32, (3, 3), activation='relu', input_shape=(128, 130, 1)),\n",
        "    MaxPooling2D((2, 2)),\n",
        "    Conv2D(64, (3, 3), activation='relu'),\n",
        "    MaxPooling2D((2, 2)),\n",
        "    Conv2D(128, (3, 3), activation='relu'),\n",
        "    MaxPooling2D((2, 2)),\n",
        "    Flatten(),\n",
        "    Dense(256, activation='relu'),\n",
        "    Dropout(0.5),\n",
        "    Dense(128, activation='relu'),\n",
        "    Dropout(0.5),\n",
        "    Dense(10, activation='softmax')\n",
        "])\n",
        "\n",
        "model.compile(optimizer='adam', loss='sparse_categorical_crossentropy', metrics=['accuracy'])"
      ]
    },
    {
      "cell_type": "code",
      "execution_count": null,
      "metadata": {
        "colab": {
          "base_uri": "https://localhost:8080/"
        },
        "id": "MOUDO6oDCKu8",
        "outputId": "b0fc061d-499a-464a-9d99-83af0494ca2b"
      },
      "outputs": [
        {
          "name": "stdout",
          "output_type": "stream",
          "text": [
            "Epoch 1/10\n",
            "225/225 [==============================] - 8s 21ms/step - loss: 2.5824 - accuracy: 0.1008 - val_loss: 2.3042 - val_accuracy: 0.0887\n",
            "Epoch 2/10\n",
            "225/225 [==============================] - 4s 19ms/step - loss: 2.3036 - accuracy: 0.1004 - val_loss: 2.3033 - val_accuracy: 0.0950\n",
            "Epoch 3/10\n",
            "225/225 [==============================] - 5s 23ms/step - loss: 2.3033 - accuracy: 0.1016 - val_loss: 2.3030 - val_accuracy: 0.0887\n",
            "Epoch 4/10\n",
            "225/225 [==============================] - 4s 20ms/step - loss: 2.3033 - accuracy: 0.0945 - val_loss: 2.3037 - val_accuracy: 0.0887\n",
            "Epoch 5/10\n",
            "225/225 [==============================] - 4s 19ms/step - loss: 2.3026 - accuracy: 0.0972 - val_loss: 2.3036 - val_accuracy: 0.0887\n",
            "Epoch 6/10\n",
            "225/225 [==============================] - 4s 18ms/step - loss: 2.3028 - accuracy: 0.1053 - val_loss: 2.3038 - val_accuracy: 0.0887\n",
            "Epoch 7/10\n",
            "225/225 [==============================] - 4s 18ms/step - loss: 2.3031 - accuracy: 0.0987 - val_loss: 2.3039 - val_accuracy: 0.0887\n",
            "Epoch 8/10\n",
            "225/225 [==============================] - 4s 17ms/step - loss: 2.3032 - accuracy: 0.0986 - val_loss: 2.3039 - val_accuracy: 0.0887\n",
            "Epoch 9/10\n",
            "225/225 [==============================] - 4s 17ms/step - loss: 2.3028 - accuracy: 0.1023 - val_loss: 2.3037 - val_accuracy: 0.0887\n",
            "Epoch 10/10\n",
            "225/225 [==============================] - 4s 18ms/step - loss: 2.3031 - accuracy: 0.1005 - val_loss: 2.3037 - val_accuracy: 0.0887\n"
          ]
        },
        {
          "data": {
            "text/plain": [
              "<keras.src.callbacks.History at 0x7c9cd32637c0>"
            ]
          },
          "execution_count": 21,
          "metadata": {},
          "output_type": "execute_result"
        }
      ],
      "source": [
        "model.fit(X_train, y_train, epochs=10, batch_size=32, validation_split=0.1)\n"
      ]
    },
    {
      "cell_type": "code",
      "execution_count": null,
      "metadata": {
        "colab": {
          "base_uri": "https://localhost:8080/"
        },
        "id": "YMXZUzB-MYvm",
        "outputId": "d45de1a5-1782-43da-a5b2-4aa0b7b117d2"
      },
      "outputs": [
        {
          "name": "stdout",
          "output_type": "stream",
          "text": [
            "63/63 [==============================] - 1s 8ms/step - loss: 2.3030 - accuracy: 0.0941\n",
            "Test accuracy: 0.09409409761428833\n"
          ]
        }
      ],
      "source": [
        "test_loss, test_accuracy = model.evaluate(X_test, y_test)\n",
        "print(f\"Test accuracy: {test_accuracy}\")\n"
      ]
    },
    {
      "cell_type": "markdown",
      "metadata": {
        "id": "nyxaXHd1BlpN"
      },
      "source": [
        "## Modelo 3\n"
      ]
    },
    {
      "cell_type": "code",
      "execution_count": null,
      "metadata": {
        "id": "P_GyK6DRXBsC"
      },
      "outputs": [],
      "source": [
        "df['Labels'] = pd.Categorical(df['Labels'])\n",
        "df['Labels'] = df.Labels.cat.codes\n",
        "\n",
        "l = df.pop('Labels')\n",
        "dataset = tf.data.Dataset.from_tensor_slices((np.array(images), l.values))"
      ]
    },
    {
      "cell_type": "code",
      "execution_count": null,
      "metadata": {
        "id": "GND14b-tcvmH"
      },
      "outputs": [],
      "source": [
        "train_dataset = dataset.shuffle(len(df)).batch(1)"
      ]
    },
    {
      "cell_type": "code",
      "execution_count": null,
      "metadata": {
        "colab": {
          "base_uri": "https://localhost:8080/"
        },
        "id": "olGbWOP5tHaG",
        "outputId": "8e678283-bbbc-4a1c-f5df-fde9e61a7f18"
      },
      "outputs": [
        {
          "name": "stdout",
          "output_type": "stream",
          "text": [
            "Model: \"sequential_4\"\n",
            "_________________________________________________________________\n",
            " Layer (type)                Output Shape              Param #   \n",
            "=================================================================\n",
            " conv2d_12 (Conv2D)          (None, 126, 128, 32)      896       \n",
            "                                                                 \n",
            " max_pooling2d_11 (MaxPooli  (None, 31, 32, 32)        0         \n",
            " ng2D)                                                           \n",
            "                                                                 \n",
            " conv2d_13 (Conv2D)          (None, 29, 30, 64)        18496     \n",
            "                                                                 \n",
            " max_pooling2d_12 (MaxPooli  (None, 7, 7, 64)          0         \n",
            " ng2D)                                                           \n",
            "                                                                 \n",
            " conv2d_14 (Conv2D)          (None, 5, 5, 64)          36928     \n",
            "                                                                 \n",
            " flatten_4 (Flatten)         (None, 1600)              0         \n",
            "                                                                 \n",
            " dense_10 (Dense)            (None, 64)                102464    \n",
            "                                                                 \n",
            " dense_11 (Dense)            (None, 10)                650       \n",
            "                                                                 \n",
            "=================================================================\n",
            "Total params: 159434 (622.79 KB)\n",
            "Trainable params: 159434 (622.79 KB)\n",
            "Non-trainable params: 0 (0.00 Byte)\n",
            "_________________________________________________________________\n"
          ]
        }
      ],
      "source": [
        "from tensorflow.keras import datasets, layers, models\n",
        "\n",
        "model = models.Sequential()\n",
        "model.add(layers.Conv2D(32, (3, 3), activation='relu', input_shape=(128, 130, 3)))\n",
        "model.add(layers.MaxPooling2D((4, 4)))\n",
        "model.add(layers.Conv2D(64, (3, 3), activation='relu'))\n",
        "model.add(layers.MaxPooling2D((4, 4)))\n",
        "model.add(layers.Conv2D(64, (3, 3), activation='relu'))\n",
        "model.add(layers.Flatten())\n",
        "model.add(layers.Dense(64, activation='relu'))\n",
        "model.add(layers.Dense(10))\n",
        "model.summary()"
      ]
    },
    {
      "cell_type": "code",
      "execution_count": null,
      "metadata": {
        "id": "YNNz4GnPPIhn"
      },
      "outputs": [],
      "source": [
        "import tensorflow as tf"
      ]
    },
    {
      "cell_type": "code",
      "execution_count": null,
      "metadata": {
        "colab": {
          "base_uri": "https://localhost:8080/"
        },
        "id": "uXxdAh0vMqav",
        "outputId": "ea4e4aee-c1e2-4e4e-cd4a-d3cdaeab1891"
      },
      "outputs": [
        {
          "name": "stdout",
          "output_type": "stream",
          "text": [
            "Model: \"sequential_5\"\n",
            "_________________________________________________________________\n",
            " Layer (type)                Output Shape              Param #   \n",
            "=================================================================\n",
            " conv2d_15 (Conv2D)          (None, 124, 126, 32)      832       \n",
            "                                                                 \n",
            " max_pooling2d_13 (MaxPooli  (None, 62, 63, 32)        0         \n",
            " ng2D)                                                           \n",
            "                                                                 \n",
            " conv2d_16 (Conv2D)          (None, 60, 61, 64)        18496     \n",
            "                                                                 \n",
            " max_pooling2d_14 (MaxPooli  (None, 30, 30, 64)        0         \n",
            " ng2D)                                                           \n",
            "                                                                 \n",
            " flatten_5 (Flatten)         (None, 57600)             0         \n",
            "                                                                 \n",
            " dense_12 (Dense)            (None, 64)                3686464   \n",
            "                                                                 \n",
            " dense_13 (Dense)            (None, 10)                650       \n",
            "                                                                 \n",
            "=================================================================\n",
            "Total params: 3706442 (14.14 MB)\n",
            "Trainable params: 3706442 (14.14 MB)\n",
            "Non-trainable params: 0 (0.00 Byte)\n",
            "_________________________________________________________________\n"
          ]
        }
      ],
      "source": [
        "model = Sequential([\n",
        "    Conv2D(32, (5, 5),1, activation='relu', input_shape=(128, 130, 1)),\n",
        "    MaxPooling2D(),\n",
        "    Conv2D(64, (3, 3),1, activation='relu'),\n",
        "    MaxPooling2D(),\n",
        "    Flatten(),\n",
        "    Dense(64, activation='relu'),\n",
        "    Dense(10, activation='softmax')\n",
        "])\n",
        "model.summary()\n",
        "model.compile(optimizer='adam', loss='sparse_categorical_crossentropy', metrics=['accuracy'])"
      ]
    },
    {
      "cell_type": "code",
      "execution_count": null,
      "metadata": {
        "colab": {
          "base_uri": "https://localhost:8080/"
        },
        "id": "6ARsl5tdNZ1Y",
        "outputId": "fd49f1fd-4a4c-4c8f-a85e-427f7291d60c"
      },
      "outputs": [
        {
          "name": "stdout",
          "output_type": "stream",
          "text": [
            "Epoch 1/20\n",
            "225/225 [==============================] - 6s 18ms/step - loss: 4.7344 - accuracy: 0.2835 - val_loss: 1.4447 - val_accuracy: 0.4850\n",
            "Epoch 2/20\n",
            "225/225 [==============================] - 3s 15ms/step - loss: 1.2063 - accuracy: 0.5768 - val_loss: 1.1164 - val_accuracy: 0.6075\n",
            "Epoch 3/20\n",
            "225/225 [==============================] - 3s 14ms/step - loss: 0.7473 - accuracy: 0.7453 - val_loss: 1.0545 - val_accuracy: 0.6488\n",
            "Epoch 4/20\n",
            "225/225 [==============================] - 3s 13ms/step - loss: 0.5162 - accuracy: 0.8259 - val_loss: 1.1650 - val_accuracy: 0.6388\n",
            "Epoch 5/20\n",
            "225/225 [==============================] - 3s 13ms/step - loss: 0.2953 - accuracy: 0.9032 - val_loss: 1.2856 - val_accuracy: 0.6650\n",
            "Epoch 6/20\n",
            "225/225 [==============================] - 3s 14ms/step - loss: 0.1719 - accuracy: 0.9431 - val_loss: 1.3818 - val_accuracy: 0.6675\n",
            "Epoch 7/20\n",
            "225/225 [==============================] - 3s 14ms/step - loss: 0.0878 - accuracy: 0.9721 - val_loss: 1.5203 - val_accuracy: 0.6625\n",
            "Epoch 8/20\n",
            "225/225 [==============================] - 3s 13ms/step - loss: 0.0989 - accuracy: 0.9686 - val_loss: 1.4811 - val_accuracy: 0.6575\n",
            "Epoch 9/20\n",
            "225/225 [==============================] - 3s 13ms/step - loss: 0.1013 - accuracy: 0.9709 - val_loss: 1.8191 - val_accuracy: 0.6375\n",
            "Epoch 10/20\n",
            "225/225 [==============================] - 3s 14ms/step - loss: 0.0445 - accuracy: 0.9861 - val_loss: 1.8644 - val_accuracy: 0.6888\n",
            "Epoch 11/20\n",
            "225/225 [==============================] - 3s 14ms/step - loss: 0.0426 - accuracy: 0.9857 - val_loss: 1.9362 - val_accuracy: 0.6037\n",
            "Epoch 12/20\n",
            "225/225 [==============================] - 3s 13ms/step - loss: 0.0827 - accuracy: 0.9741 - val_loss: 1.8048 - val_accuracy: 0.6488\n",
            "Epoch 13/20\n",
            "225/225 [==============================] - 4s 16ms/step - loss: 0.4994 - accuracy: 0.8548 - val_loss: 1.8906 - val_accuracy: 0.6712\n",
            "Epoch 14/20\n",
            "225/225 [==============================] - 3s 14ms/step - loss: 0.0469 - accuracy: 0.9850 - val_loss: 2.0438 - val_accuracy: 0.6600\n",
            "Epoch 15/20\n",
            "225/225 [==============================] - 3s 14ms/step - loss: 0.0189 - accuracy: 0.9939 - val_loss: 2.4715 - val_accuracy: 0.6513\n",
            "Epoch 16/20\n",
            "225/225 [==============================] - 3s 14ms/step - loss: 0.0343 - accuracy: 0.9879 - val_loss: 2.1738 - val_accuracy: 0.6550\n",
            "Epoch 17/20\n",
            "225/225 [==============================] - 3s 15ms/step - loss: 0.0019 - accuracy: 1.0000 - val_loss: 2.2064 - val_accuracy: 0.6825\n",
            "Epoch 18/20\n",
            "225/225 [==============================] - 3s 16ms/step - loss: 4.1313e-04 - accuracy: 1.0000 - val_loss: 2.1941 - val_accuracy: 0.6888\n",
            "Epoch 19/20\n",
            "225/225 [==============================] - 3s 15ms/step - loss: 2.3046e-04 - accuracy: 1.0000 - val_loss: 2.2250 - val_accuracy: 0.6913\n",
            "Epoch 20/20\n",
            "225/225 [==============================] - 3s 15ms/step - loss: 1.7555e-04 - accuracy: 1.0000 - val_loss: 2.2607 - val_accuracy: 0.6913\n"
          ]
        },
        {
          "data": {
            "text/plain": [
              "<keras.src.callbacks.History at 0x7c9c5c2cfeb0>"
            ]
          },
          "execution_count": 33,
          "metadata": {},
          "output_type": "execute_result"
        }
      ],
      "source": [
        "model.fit(X_train, y_train, epochs=20, batch_size=32, validation_split=0.1)\n"
      ]
    },
    {
      "cell_type": "code",
      "execution_count": null,
      "metadata": {
        "colab": {
          "base_uri": "https://localhost:8080/"
        },
        "id": "hXSTxTDcVS6x",
        "outputId": "9c010d80-0931-48e5-c995-50d7d4854b19"
      },
      "outputs": [
        {
          "name": "stdout",
          "output_type": "stream",
          "text": [
            "63/63 [==============================] - 1s 8ms/step - loss: 2.7488 - accuracy: 0.6532\n",
            "Test accuracy: 0.6531531810760498\n"
          ]
        }
      ],
      "source": [
        "test_loss, test_accuracy = model.evaluate(X_test, y_test)\n",
        "print(f\"Test accuracy: {test_accuracy}\")\n"
      ]
    },
    {
      "cell_type": "markdown",
      "metadata": {
        "id": "FTGAEd0JBo8a"
      },
      "source": [
        "## Modelo 4\n"
      ]
    },
    {
      "cell_type": "code",
      "execution_count": null,
      "metadata": {
        "colab": {
          "base_uri": "https://localhost:8080/"
        },
        "id": "p3fSnO7Cbavi",
        "outputId": "209856ed-1fd1-4364-9727-102445f3baeb"
      },
      "outputs": [
        {
          "name": "stdout",
          "output_type": "stream",
          "text": [
            "Model: \"sequential_6\"\n",
            "_________________________________________________________________\n",
            " Layer (type)                Output Shape              Param #   \n",
            "=================================================================\n",
            " conv2d_17 (Conv2D)          (None, 124, 126, 32)      832       \n",
            "                                                                 \n",
            " max_pooling2d_15 (MaxPooli  (None, 62, 63, 32)        0         \n",
            " ng2D)                                                           \n",
            "                                                                 \n",
            " conv2d_18 (Conv2D)          (None, 60, 61, 64)        18496     \n",
            "                                                                 \n",
            " max_pooling2d_16 (MaxPooli  (None, 30, 30, 64)        0         \n",
            " ng2D)                                                           \n",
            "                                                                 \n",
            " flatten_6 (Flatten)         (None, 57600)             0         \n",
            "                                                                 \n",
            " dense_14 (Dense)            (None, 32)                1843232   \n",
            "                                                                 \n",
            " dense_15 (Dense)            (None, 64)                2112      \n",
            "                                                                 \n",
            " dense_16 (Dense)            (None, 10)                650       \n",
            "                                                                 \n",
            "=================================================================\n",
            "Total params: 1865322 (7.12 MB)\n",
            "Trainable params: 1865322 (7.12 MB)\n",
            "Non-trainable params: 0 (0.00 Byte)\n",
            "_________________________________________________________________\n"
          ]
        }
      ],
      "source": [
        "model1 = Sequential([\n",
        "    Conv2D(32, (5, 5),1, activation='relu', input_shape=(128, 130, 1)),\n",
        "    MaxPooling2D(),\n",
        "    Conv2D(64, (3, 3),1, activation='relu'),\n",
        "    MaxPooling2D(),\n",
        "    Flatten(),\n",
        "    Dense(32, activation='relu'),\n",
        "    Dense(64, activation='relu'),\n",
        "\n",
        "    Dense(10, activation='softmax')\n",
        "])\n",
        "model1.summary()\n",
        "model1.compile(optimizer='adam', loss='sparse_categorical_crossentropy', metrics=['accuracy'])"
      ]
    },
    {
      "cell_type": "code",
      "execution_count": null,
      "metadata": {
        "colab": {
          "base_uri": "https://localhost:8080/"
        },
        "id": "3z1NaiAPbdJ6",
        "outputId": "a01a7afd-7b74-4d3a-e456-4d2473efd05b"
      },
      "outputs": [
        {
          "name": "stdout",
          "output_type": "stream",
          "text": [
            "Epoch 1/10\n",
            "225/225 [==============================] - 5s 16ms/step - loss: 2.7207 - accuracy: 0.0947 - val_loss: 2.3028 - val_accuracy: 0.0950\n",
            "Epoch 2/10\n",
            "225/225 [==============================] - 3s 14ms/step - loss: 2.3028 - accuracy: 0.0969 - val_loss: 2.3031 - val_accuracy: 0.0950\n",
            "Epoch 3/10\n",
            "225/225 [==============================] - 3s 13ms/step - loss: 2.3027 - accuracy: 0.1008 - val_loss: 2.3032 - val_accuracy: 0.0887\n",
            "Epoch 4/10\n",
            "225/225 [==============================] - 3s 13ms/step - loss: 2.3027 - accuracy: 0.0986 - val_loss: 2.3034 - val_accuracy: 0.0887\n",
            "Epoch 5/10\n",
            "225/225 [==============================] - 3s 13ms/step - loss: 2.3027 - accuracy: 0.1005 - val_loss: 2.3035 - val_accuracy: 0.0887\n",
            "Epoch 6/10\n",
            "225/225 [==============================] - 3s 14ms/step - loss: 2.3027 - accuracy: 0.1018 - val_loss: 2.3036 - val_accuracy: 0.0887\n",
            "Epoch 7/10\n",
            "225/225 [==============================] - 3s 13ms/step - loss: 2.3027 - accuracy: 0.0998 - val_loss: 2.3036 - val_accuracy: 0.0887\n",
            "Epoch 8/10\n",
            "225/225 [==============================] - 3s 14ms/step - loss: 2.3027 - accuracy: 0.1030 - val_loss: 2.3036 - val_accuracy: 0.0887\n",
            "Epoch 9/10\n",
            "225/225 [==============================] - 3s 15ms/step - loss: 2.3027 - accuracy: 0.1030 - val_loss: 2.3037 - val_accuracy: 0.0887\n",
            "Epoch 10/10\n",
            "225/225 [==============================] - 3s 15ms/step - loss: 2.3027 - accuracy: 0.1030 - val_loss: 2.3037 - val_accuracy: 0.0887\n"
          ]
        },
        {
          "data": {
            "text/plain": [
              "<keras.src.callbacks.History at 0x7c9c5c040b50>"
            ]
          },
          "execution_count": 36,
          "metadata": {},
          "output_type": "execute_result"
        }
      ],
      "source": [
        "model1.fit(X_train, y_train, epochs=10, batch_size=32, validation_split=0.1)"
      ]
    },
    {
      "cell_type": "code",
      "execution_count": null,
      "metadata": {
        "colab": {
          "base_uri": "https://localhost:8080/"
        },
        "id": "MhT349pHwyYj",
        "outputId": "1cfdc461-cb3c-439e-9c63-d2c4b8060f6b"
      },
      "outputs": [
        {
          "name": "stdout",
          "output_type": "stream",
          "text": [
            "63/63 [==============================] - 1s 7ms/step - loss: 2.3031 - accuracy: 0.0941\n",
            "Test accuracy: 0.09409409761428833\n"
          ]
        }
      ],
      "source": [
        "test_loss, test_accuracy = model1.evaluate(X_test, y_test)\n",
        "print(f\"Test accuracy: {test_accuracy}\")\n"
      ]
    },
    {
      "cell_type": "markdown",
      "metadata": {
        "id": "hZp5O07bBtJ3"
      },
      "source": [
        "## Modelo 5\n"
      ]
    },
    {
      "cell_type": "code",
      "execution_count": null,
      "metadata": {
        "colab": {
          "base_uri": "https://localhost:8080/"
        },
        "id": "Ynlsuygr0B_t",
        "outputId": "e125c8b4-931c-40ee-f584-610a90ab976f"
      },
      "outputs": [
        {
          "name": "stdout",
          "output_type": "stream",
          "text": [
            "Model: \"sequential_3\"\n",
            "_________________________________________________________________\n",
            " Layer (type)                Output Shape              Param #   \n",
            "=================================================================\n",
            " conv2d_6 (Conv2D)           (None, 124, 126, 32)      832       \n",
            "                                                                 \n",
            " max_pooling2d_6 (MaxPoolin  (None, 62, 63, 32)        0         \n",
            " g2D)                                                            \n",
            "                                                                 \n",
            " conv2d_7 (Conv2D)           (None, 60, 61, 64)        18496     \n",
            "                                                                 \n",
            " max_pooling2d_7 (MaxPoolin  (None, 30, 30, 64)        0         \n",
            " g2D)                                                            \n",
            "                                                                 \n",
            " flatten_3 (Flatten)         (None, 57600)             0         \n",
            "                                                                 \n",
            " dense_6 (Dense)             (None, 256)               14745856  \n",
            "                                                                 \n",
            " dense_7 (Dense)             (None, 10)                2570      \n",
            "                                                                 \n",
            "=================================================================\n",
            "Total params: 14767754 (56.33 MB)\n",
            "Trainable params: 14767754 (56.33 MB)\n",
            "Non-trainable params: 0 (0.00 Byte)\n",
            "_________________________________________________________________\n"
          ]
        }
      ],
      "source": [
        "model4 = Sequential([\n",
        "    Conv2D(32, (5, 5),1, activation='relu', input_shape=(128, 130, 1)),\n",
        "    MaxPooling2D(),\n",
        "    Conv2D(64, (3, 3),1, activation='relu'),\n",
        "    MaxPooling2D(),\n",
        "    Flatten(),\n",
        "    Dense(256, activation='relu'),\n",
        "    Dense(10, activation='softmax')\n",
        "])\n",
        "model4.summary()\n",
        "model4.compile(optimizer='adam', loss='sparse_categorical_crossentropy', metrics=['accuracy'])"
      ]
    },
    {
      "cell_type": "code",
      "execution_count": null,
      "metadata": {
        "colab": {
          "base_uri": "https://localhost:8080/"
        },
        "id": "dntByqAR0Jw1",
        "outputId": "db72e44a-187e-47a1-9f3b-0f8141865233"
      },
      "outputs": [
        {
          "name": "stdout",
          "output_type": "stream",
          "text": [
            "Epoch 1/10\n",
            "225/225 [==============================] - 6s 20ms/step - loss: 7.7632 - accuracy: 0.2369 - val_loss: 1.8881 - val_accuracy: 0.4225\n",
            "Epoch 2/10\n",
            "225/225 [==============================] - 4s 17ms/step - loss: 1.3662 - accuracy: 0.5302 - val_loss: 1.3340 - val_accuracy: 0.5450\n",
            "Epoch 3/10\n",
            "225/225 [==============================] - 4s 17ms/step - loss: 0.7661 - accuracy: 0.7379 - val_loss: 1.1349 - val_accuracy: 0.6288\n",
            "Epoch 4/10\n",
            "225/225 [==============================] - 4s 17ms/step - loss: 0.3496 - accuracy: 0.8835 - val_loss: 1.1235 - val_accuracy: 0.6700\n",
            "Epoch 5/10\n",
            "225/225 [==============================] - 4s 18ms/step - loss: 0.1598 - accuracy: 0.9508 - val_loss: 1.3264 - val_accuracy: 0.6787\n",
            "Epoch 6/10\n",
            "225/225 [==============================] - 4s 17ms/step - loss: 0.0811 - accuracy: 0.9775 - val_loss: 1.6768 - val_accuracy: 0.6300\n",
            "Epoch 7/10\n",
            "225/225 [==============================] - 4s 17ms/step - loss: 0.1025 - accuracy: 0.9675 - val_loss: 1.8372 - val_accuracy: 0.6000\n",
            "Epoch 8/10\n",
            "225/225 [==============================] - 4s 18ms/step - loss: 0.1158 - accuracy: 0.9661 - val_loss: 1.6867 - val_accuracy: 0.6637\n",
            "Epoch 9/10\n",
            "225/225 [==============================] - 4s 17ms/step - loss: 0.0408 - accuracy: 0.9883 - val_loss: 1.8154 - val_accuracy: 0.6525\n",
            "Epoch 10/10\n",
            "225/225 [==============================] - 4s 17ms/step - loss: 0.0143 - accuracy: 0.9975 - val_loss: 1.9939 - val_accuracy: 0.6762\n"
          ]
        },
        {
          "data": {
            "text/plain": [
              "<keras.src.callbacks.History at 0x7944203deda0>"
            ]
          },
          "execution_count": 22,
          "metadata": {},
          "output_type": "execute_result"
        }
      ],
      "source": [
        "model4.fit(X_train, y_train, epochs=10, batch_size=32, validation_split=0.1)"
      ]
    },
    {
      "cell_type": "code",
      "execution_count": null,
      "metadata": {
        "colab": {
          "base_uri": "https://localhost:8080/"
        },
        "id": "Uhh4btbd0VFn",
        "outputId": "d4cafafa-46da-43ae-9465-5e53ba175e1a"
      },
      "outputs": [
        {
          "name": "stdout",
          "output_type": "stream",
          "text": [
            "63/63 [==============================] - 1s 6ms/step - loss: 1.9252 - accuracy: 0.6662\n",
            "Test accuracy: 0.6661661863327026\n"
          ]
        }
      ],
      "source": [
        "test_loss, test_accuracy = model4.evaluate(X_test, y_test)\n",
        "print(f\"Test accuracy: {test_accuracy}\")\n"
      ]
    },
    {
      "cell_type": "markdown",
      "metadata": {
        "id": "5yhWX4NABvkv"
      },
      "source": [
        "## Modelo 6\n"
      ]
    },
    {
      "cell_type": "code",
      "execution_count": null,
      "metadata": {
        "colab": {
          "base_uri": "https://localhost:8080/"
        },
        "id": "_z3_qEYo7KI1",
        "outputId": "ff65f204-440c-4bdf-9dac-b89ae1320314"
      },
      "outputs": [
        {
          "name": "stdout",
          "output_type": "stream",
          "text": [
            "Model: \"sequential_8\"\n",
            "_________________________________________________________________\n",
            " Layer (type)                Output Shape              Param #   \n",
            "=================================================================\n",
            " conv2d_21 (Conv2D)          (None, 126, 128, 32)      320       \n",
            "                                                                 \n",
            " max_pooling2d_19 (MaxPooli  (None, 63, 64, 32)        0         \n",
            " ng2D)                                                           \n",
            "                                                                 \n",
            " conv2d_22 (Conv2D)          (None, 61, 62, 64)        18496     \n",
            "                                                                 \n",
            " max_pooling2d_20 (MaxPooli  (None, 30, 31, 64)        0         \n",
            " ng2D)                                                           \n",
            "                                                                 \n",
            " flatten_8 (Flatten)         (None, 59520)             0         \n",
            "                                                                 \n",
            " dense_19 (Dense)            (None, 64)                3809344   \n",
            "                                                                 \n",
            " dense_20 (Dense)            (None, 10)                650       \n",
            "                                                                 \n",
            "=================================================================\n",
            "Total params: 3828810 (14.61 MB)\n",
            "Trainable params: 3828810 (14.61 MB)\n",
            "Non-trainable params: 0 (0.00 Byte)\n",
            "_________________________________________________________________\n"
          ]
        }
      ],
      "source": [
        "model2 = Sequential([\n",
        "    Conv2D(32, (3, 3),1, activation='relu', input_shape=(128, 130, 1)),\n",
        "    MaxPooling2D(),\n",
        "\n",
        "    Conv2D(64, (3, 3),1, activation='relu'),\n",
        "    MaxPooling2D(),\n",
        "    Flatten(),\n",
        "    Dense(64, activation='relu'),\n",
        "\n",
        "\n",
        "    Dense(10, activation='softmax')\n",
        "])\n",
        "model2.summary()\n",
        "model2.compile(optimizer='adam', loss='sparse_categorical_crossentropy', metrics=['accuracy'])"
      ]
    },
    {
      "cell_type": "code",
      "execution_count": null,
      "metadata": {
        "colab": {
          "base_uri": "https://localhost:8080/"
        },
        "id": "avgMX1oi8bIL",
        "outputId": "806bc467-e29c-43a2-f580-c18bf68b3c70"
      },
      "outputs": [
        {
          "name": "stdout",
          "output_type": "stream",
          "text": [
            "Epoch 1/10\n",
            "225/225 [==============================] - 5s 15ms/step - loss: 4.5688 - accuracy: 0.0939 - val_loss: 2.3026 - val_accuracy: 0.1200\n",
            "Epoch 2/10\n",
            "225/225 [==============================] - 3s 15ms/step - loss: 2.3028 - accuracy: 0.0984 - val_loss: 2.3028 - val_accuracy: 0.0887\n",
            "Epoch 3/10\n",
            "225/225 [==============================] - 3s 14ms/step - loss: 2.3027 - accuracy: 0.1003 - val_loss: 2.3031 - val_accuracy: 0.0887\n",
            "Epoch 4/10\n",
            "225/225 [==============================] - 3s 14ms/step - loss: 2.3028 - accuracy: 0.1029 - val_loss: 2.3034 - val_accuracy: 0.0887\n",
            "Epoch 5/10\n",
            "225/225 [==============================] - 3s 13ms/step - loss: 2.3027 - accuracy: 0.0975 - val_loss: 2.3034 - val_accuracy: 0.0887\n",
            "Epoch 6/10\n",
            "225/225 [==============================] - 3s 14ms/step - loss: 2.3027 - accuracy: 0.0991 - val_loss: 2.3036 - val_accuracy: 0.0887\n",
            "Epoch 7/10\n",
            "225/225 [==============================] - 3s 14ms/step - loss: 2.3031 - accuracy: 0.1036 - val_loss: 2.3029 - val_accuracy: 0.0925\n",
            "Epoch 8/10\n",
            "225/225 [==============================] - 3s 15ms/step - loss: 2.3083 - accuracy: 0.0966 - val_loss: 2.3031 - val_accuracy: 0.0925\n",
            "Epoch 9/10\n",
            "225/225 [==============================] - 3s 15ms/step - loss: 2.3030 - accuracy: 0.0958 - val_loss: 2.3034 - val_accuracy: 0.0925\n",
            "Epoch 10/10\n",
            "225/225 [==============================] - 5s 20ms/step - loss: 2.3029 - accuracy: 0.0975 - val_loss: 2.3036 - val_accuracy: 0.0887\n"
          ]
        },
        {
          "data": {
            "text/plain": [
              "<keras.src.callbacks.History at 0x7c9c51ebab30>"
            ]
          },
          "execution_count": 43,
          "metadata": {},
          "output_type": "execute_result"
        }
      ],
      "source": [
        "model2.fit(X_train, y_train, epochs=10, batch_size=32, validation_split=0.1)"
      ]
    },
    {
      "cell_type": "code",
      "execution_count": null,
      "metadata": {
        "colab": {
          "base_uri": "https://localhost:8080/"
        },
        "id": "xso-_Vpf-ERa",
        "outputId": "86a4c5cd-f931-44d9-8025-a767b37becfd"
      },
      "outputs": [
        {
          "name": "stdout",
          "output_type": "stream",
          "text": [
            "63/63 [==============================] - 1s 6ms/step - loss: 2.3031 - accuracy: 0.0941\n",
            "Test accuracy: 0.09409409761428833\n"
          ]
        }
      ],
      "source": [
        "test_loss, test_accuracy = model2.evaluate(X_test, y_test)\n",
        "print(f\"Test accuracy: {test_accuracy}\")\n"
      ]
    },
    {
      "cell_type": "markdown",
      "metadata": {
        "id": "3SkzZ-TKiaQ5"
      },
      "source": [
        "## Conclusão\n"
      ]
    },
    {
      "cell_type": "markdown",
      "metadata": {
        "id": "k-DbbQmJicTQ"
      },
      "source": [
        "Para classificar músicas com CNNs recorremos aos mel-espectrogramas, assim pudemos constatar que músicas em um gênero musical possuem características únicas entre si que podem ser aprendidas por redes neurais.\n"
      ]
    }
  ],
  "metadata": {
    "accelerator": "GPU",
    "colab": {
      "gpuType": "T4",
      "provenance": []
    },
    "kernelspec": {
      "display_name": "Python 3",
      "name": "python3"
    },
    "language_info": {
      "name": "python"
    }
  },
  "nbformat": 4,
  "nbformat_minor": 0
}
