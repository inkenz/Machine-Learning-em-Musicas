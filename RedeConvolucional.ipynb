{
  "cells": [
    {
      "cell_type": "markdown",
      "metadata": {
        "id": "6ISUo_3AAkqC"
      },
      "source": [
        "# Uso de rede convolucional para classificação de áudios a partir de imagens de mel espectogramas\n"
      ]
    },
    {
      "cell_type": "markdown",
      "metadata": {
        "id": "0qiO483pnYPS"
      },
      "source": [
        "## Gerando e salvando espectogramas das músicas\n"
      ]
    },
    {
      "cell_type": "code",
      "execution_count": null,
      "metadata": {
        "colab": {
          "base_uri": "https://localhost:8080/"
        },
        "id": "KAM9i_IGv6Gm",
        "outputId": "d1ef2118-a033-4ca2-f583-d5ae31fbf80f"
      },
      "outputs": [
        {
          "name": "stdout",
          "output_type": "stream",
          "text": [
            "blues\n",
            "classical\n",
            "country\n",
            "disco\n",
            "hiphop\n",
            "jazz\n"
          ]
        },
        {
          "name": "stderr",
          "output_type": "stream",
          "text": [
            "<ipython-input-5-1bee760e6e01>:27: UserWarning: PySoundFile failed. Trying audioread instead.\n",
            "  y, sr = librosa.load(audio_path)\n",
            "/usr/local/lib/python3.10/dist-packages/librosa/core/audio.py:184: FutureWarning: librosa.core.audio.__audioread_load\n",
            "\tDeprecated as of librosa version 0.10.0.\n",
            "\tIt will be removed in librosa version 1.0.\n",
            "  y, sr_native = __audioread_load(path, offset, duration, dtype)\n"
          ]
        },
        {
          "name": "stdout",
          "output_type": "stream",
          "text": [
            "Erro em Data/genres_original/jazz/jazz.00054.wav\n",
            "metal\n",
            "pop\n",
            "reggae\n",
            "rock\n",
            "Espectrogramas gerados e salvos com sucesso!\n"
          ]
        }
      ],
      "source": [
        "import numpy as np\n",
        "import os\n",
        "import librosa\n",
        "import librosa.display\n",
        "import matplotlib.pyplot as plt\n",
        "import imageio\n",
        "\n",
        "root_dir = 'Data/genres_original'\n",
        "output_dir = 'spectrograms'\n",
        "\n",
        "genres = ['blues', 'classical', 'country', 'disco', 'hiphop', 'jazz', 'metal', 'pop', 'reggae', 'rock']\n",
        "\n",
        "\n",
        "n_mels = 128\n",
        "hop_length = 512\n",
        "n_fft = 2048\n",
        "segment_duration = 3\n",
        "images = []\n",
        "labels = []\n",
        "for genre in genres:\n",
        "    genre_dir = os.path.join(root_dir, genre)\n",
        "    label = genre\n",
        "    print(genre)\n",
        "    for filename in os.listdir(genre_dir):\n",
        "        audio_path = os.path.join(genre_dir, filename)\n",
        "        try:\n",
        "          y, sr = librosa.load(audio_path)\n",
        "\n",
        "          segment_length = segment_duration * sr\n",
        "          n_samples = len(y)\n",
        "          for i in range(10):\n",
        "              start_sample = np.random.randint(0, n_samples - segment_length)\n",
        "              end_sample = int(start_sample + segment_length)\n",
        "              segment = y[start_sample:end_sample]\n",
        "\n",
        "              mel_spec = librosa.feature.melspectrogram(y=segment, sr=sr, n_mels=n_mels,\n",
        "                                                        hop_length=hop_length, n_fft=n_fft)\n",
        "              log_mel_spec = librosa.power_to_db(mel_spec, ref=np.max)\n",
        "              images.append(log_mel_spec)\n",
        "              labels.append(label)\n",
        "        except:\n",
        "          print(\"Erro em \"+audio_path)\n",
        "\n",
        "print(\"Espectrogramas gerados e salvos com sucesso!\")\n"
      ]
    },
    {
      "cell_type": "code",
      "execution_count": null,
      "metadata": {
        "colab": {
          "base_uri": "https://localhost:8080/",
          "height": 206
        },
        "id": "4O87QenO-jFp",
        "outputId": "e5b0525d-f084-4f29-a97a-8c62cd998987"
      },
      "outputs": [
        {
          "data": {
            "text/html": [
              "\n",
              "  <div id=\"df-946f3088-446c-402a-9ec8-4bee1e9537ce\" class=\"colab-df-container\">\n",
              "    <div>\n",
              "<style scoped>\n",
              "    .dataframe tbody tr th:only-of-type {\n",
              "        vertical-align: middle;\n",
              "    }\n",
              "\n",
              "    .dataframe tbody tr th {\n",
              "        vertical-align: top;\n",
              "    }\n",
              "\n",
              "    .dataframe thead th {\n",
              "        text-align: right;\n",
              "    }\n",
              "</style>\n",
              "<table border=\"1\" class=\"dataframe\">\n",
              "  <thead>\n",
              "    <tr style=\"text-align: right;\">\n",
              "      <th></th>\n",
              "      <th>Spectrograms</th>\n",
              "      <th>Labels</th>\n",
              "    </tr>\n",
              "  </thead>\n",
              "  <tbody>\n",
              "    <tr>\n",
              "      <th>0</th>\n",
              "      <td>[[-41.969704, -48.07244, -60.053627, -58.94497...</td>\n",
              "      <td>blues</td>\n",
              "    </tr>\n",
              "    <tr>\n",
              "      <th>1</th>\n",
              "      <td>[[-54.922012, -39.966877, -34.131905, -35.4176...</td>\n",
              "      <td>blues</td>\n",
              "    </tr>\n",
              "    <tr>\n",
              "      <th>2</th>\n",
              "      <td>[[-57.09285, -59.500156, -65.74443, -61.532585...</td>\n",
              "      <td>blues</td>\n",
              "    </tr>\n",
              "    <tr>\n",
              "      <th>3</th>\n",
              "      <td>[[-42.97397, -47.937786, -52.000134, -51.36960...</td>\n",
              "      <td>blues</td>\n",
              "    </tr>\n",
              "    <tr>\n",
              "      <th>4</th>\n",
              "      <td>[[-42.037685, -45.372467, -50.727077, -53.0831...</td>\n",
              "      <td>blues</td>\n",
              "    </tr>\n",
              "  </tbody>\n",
              "</table>\n",
              "</div>\n",
              "    <div class=\"colab-df-buttons\">\n",
              "\n",
              "  <div class=\"colab-df-container\">\n",
              "    <button class=\"colab-df-convert\" onclick=\"convertToInteractive('df-946f3088-446c-402a-9ec8-4bee1e9537ce')\"\n",
              "            title=\"Convert this dataframe to an interactive table.\"\n",
              "            style=\"display:none;\">\n",
              "\n",
              "  <svg xmlns=\"http://www.w3.org/2000/svg\" height=\"24px\" viewBox=\"0 -960 960 960\">\n",
              "    <path d=\"M120-120v-720h720v720H120Zm60-500h600v-160H180v160Zm220 220h160v-160H400v160Zm0 220h160v-160H400v160ZM180-400h160v-160H180v160Zm440 0h160v-160H620v160ZM180-180h160v-160H180v160Zm440 0h160v-160H620v160Z\"/>\n",
              "  </svg>\n",
              "    </button>\n",
              "\n",
              "  <style>\n",
              "    .colab-df-container {\n",
              "      display:flex;\n",
              "      gap: 12px;\n",
              "    }\n",
              "\n",
              "    .colab-df-convert {\n",
              "      background-color: #E8F0FE;\n",
              "      border: none;\n",
              "      border-radius: 50%;\n",
              "      cursor: pointer;\n",
              "      display: none;\n",
              "      fill: #1967D2;\n",
              "      height: 32px;\n",
              "      padding: 0 0 0 0;\n",
              "      width: 32px;\n",
              "    }\n",
              "\n",
              "    .colab-df-convert:hover {\n",
              "      background-color: #E2EBFA;\n",
              "      box-shadow: 0px 1px 2px rgba(60, 64, 67, 0.3), 0px 1px 3px 1px rgba(60, 64, 67, 0.15);\n",
              "      fill: #174EA6;\n",
              "    }\n",
              "\n",
              "    .colab-df-buttons div {\n",
              "      margin-bottom: 4px;\n",
              "    }\n",
              "\n",
              "    [theme=dark] .colab-df-convert {\n",
              "      background-color: #3B4455;\n",
              "      fill: #D2E3FC;\n",
              "    }\n",
              "\n",
              "    [theme=dark] .colab-df-convert:hover {\n",
              "      background-color: #434B5C;\n",
              "      box-shadow: 0px 1px 3px 1px rgba(0, 0, 0, 0.15);\n",
              "      filter: drop-shadow(0px 1px 2px rgba(0, 0, 0, 0.3));\n",
              "      fill: #FFFFFF;\n",
              "    }\n",
              "  </style>\n",
              "\n",
              "    <script>\n",
              "      const buttonEl =\n",
              "        document.querySelector('#df-946f3088-446c-402a-9ec8-4bee1e9537ce button.colab-df-convert');\n",
              "      buttonEl.style.display =\n",
              "        google.colab.kernel.accessAllowed ? 'block' : 'none';\n",
              "\n",
              "      async function convertToInteractive(key) {\n",
              "        const element = document.querySelector('#df-946f3088-446c-402a-9ec8-4bee1e9537ce');\n",
              "        const dataTable =\n",
              "          await google.colab.kernel.invokeFunction('convertToInteractive',\n",
              "                                                    [key], {});\n",
              "        if (!dataTable) return;\n",
              "\n",
              "        const docLinkHtml = 'Like what you see? Visit the ' +\n",
              "          '<a target=\"_blank\" href=https://colab.research.google.com/notebooks/data_table.ipynb>data table notebook</a>'\n",
              "          + ' to learn more about interactive tables.';\n",
              "        element.innerHTML = '';\n",
              "        dataTable['output_type'] = 'display_data';\n",
              "        await google.colab.output.renderOutput(dataTable, element);\n",
              "        const docLink = document.createElement('div');\n",
              "        docLink.innerHTML = docLinkHtml;\n",
              "        element.appendChild(docLink);\n",
              "      }\n",
              "    </script>\n",
              "  </div>\n",
              "\n",
              "\n",
              "<div id=\"df-c42cac6c-aaf5-46aa-9dc8-b126e7bcff08\">\n",
              "  <button class=\"colab-df-quickchart\" onclick=\"quickchart('df-c42cac6c-aaf5-46aa-9dc8-b126e7bcff08')\"\n",
              "            title=\"Suggest charts.\"\n",
              "            style=\"display:none;\">\n",
              "\n",
              "<svg xmlns=\"http://www.w3.org/2000/svg\" height=\"24px\"viewBox=\"0 0 24 24\"\n",
              "     width=\"24px\">\n",
              "    <g>\n",
              "        <path d=\"M19 3H5c-1.1 0-2 .9-2 2v14c0 1.1.9 2 2 2h14c1.1 0 2-.9 2-2V5c0-1.1-.9-2-2-2zM9 17H7v-7h2v7zm4 0h-2V7h2v10zm4 0h-2v-4h2v4z\"/>\n",
              "    </g>\n",
              "</svg>\n",
              "  </button>\n",
              "\n",
              "<style>\n",
              "  .colab-df-quickchart {\n",
              "    background-color: #E8F0FE;\n",
              "    border: none;\n",
              "    border-radius: 50%;\n",
              "    cursor: pointer;\n",
              "    display: none;\n",
              "    fill: #1967D2;\n",
              "    height: 32px;\n",
              "    padding: 0 0 0 0;\n",
              "    width: 32px;\n",
              "  }\n",
              "\n",
              "  .colab-df-quickchart:hover {\n",
              "    background-color: #E2EBFA;\n",
              "    box-shadow: 0px 1px 2px rgba(60, 64, 67, 0.3), 0px 1px 3px 1px rgba(60, 64, 67, 0.15);\n",
              "    fill: #174EA6;\n",
              "  }\n",
              "\n",
              "  [theme=dark] .colab-df-quickchart {\n",
              "    background-color: #3B4455;\n",
              "    fill: #D2E3FC;\n",
              "  }\n",
              "\n",
              "  [theme=dark] .colab-df-quickchart:hover {\n",
              "    background-color: #434B5C;\n",
              "    box-shadow: 0px 1px 3px 1px rgba(0, 0, 0, 0.15);\n",
              "    filter: drop-shadow(0px 1px 2px rgba(0, 0, 0, 0.3));\n",
              "    fill: #FFFFFF;\n",
              "  }\n",
              "</style>\n",
              "\n",
              "  <script>\n",
              "    async function quickchart(key) {\n",
              "      const charts = await google.colab.kernel.invokeFunction(\n",
              "          'suggestCharts', [key], {});\n",
              "    }\n",
              "    (() => {\n",
              "      let quickchartButtonEl =\n",
              "        document.querySelector('#df-c42cac6c-aaf5-46aa-9dc8-b126e7bcff08 button');\n",
              "      quickchartButtonEl.style.display =\n",
              "        google.colab.kernel.accessAllowed ? 'block' : 'none';\n",
              "    })();\n",
              "  </script>\n",
              "</div>\n",
              "    </div>\n",
              "  </div>\n"
            ],
            "text/plain": [
              "                                        Spectrograms Labels\n",
              "0  [[-41.969704, -48.07244, -60.053627, -58.94497...  blues\n",
              "1  [[-54.922012, -39.966877, -34.131905, -35.4176...  blues\n",
              "2  [[-57.09285, -59.500156, -65.74443, -61.532585...  blues\n",
              "3  [[-42.97397, -47.937786, -52.000134, -51.36960...  blues\n",
              "4  [[-42.037685, -45.372467, -50.727077, -53.0831...  blues"
            ]
          },
          "execution_count": 6,
          "metadata": {},
          "output_type": "execute_result"
        }
      ],
      "source": [
        "import pandas as pd\n",
        "data = {'Spectrograms': images, 'Labels': labels}\n",
        "df = pd.DataFrame(data)\n",
        "df.head()"
      ]
    },
    {
      "cell_type": "markdown",
      "metadata": {},
      "source": [
        "## Exemplo de espectograma\n"
      ]
    },
    {
      "cell_type": "code",
      "execution_count": null,
      "metadata": {
        "colab": {
          "base_uri": "https://localhost:8080/",
          "height": 487
        },
        "id": "qiVuZg9XAccE",
        "outputId": "b2f78527-2bc0-413f-e3a1-e570933764a9"
      },
      "outputs": [
        {
          "data": {
            "image/png": "[encoded data removed]",
            "text/plain": [
              "<Figure size 640x480 with 2 Axes>"
            ]
          },
          "metadata": {},
          "output_type": "display_data"
        }
      ],
      "source": [
        "y, sr = librosa.load(audio_path, duration=segment_duration)\n",
        "mel_spec = librosa.feature.melspectrogram(y=y, sr=sr, n_mels=n_mels, hop_length=hop_length, n_fft=n_fft)\n",
        "log_mel_spec = librosa.power_to_db(mel_spec, ref=np.max)\n",
        "\n",
        "librosa.display.specshow(log_mel_spec, sr=sr, hop_length=hop_length, x_axis='time', y_axis='mel')\n",
        "plt.colorbar(format='%+2.0f dB')\n",
        "plt.title('Log Mel Spectrogram')\n",
        "plt.tight_layout()\n",
        "plt.show()\n"
      ]
    },
    {
      "cell_type": "markdown",
      "metadata": {},
      "source": [
        "## Treinamento e avaliação de diferentes topólogias de redes\n"
      ]
    },
    {
      "cell_type": "code",
      "execution_count": null,
      "metadata": {
        "id": "e7YB1ZFpeXqA"
      },
      "outputs": [],
      "source": [
        "import numpy as np\n",
        "import os\n",
        "import cv2\n",
        "import pandas as pd\n",
        "import librosa\n",
        "from sklearn.model_selection import train_test_split\n",
        "from sklearn.preprocessing import LabelEncoder\n",
        "from tensorflow.keras.models import Sequential\n",
        "from tensorflow.keras.layers import Conv2D, MaxPooling2D, Flatten, Dense, Dropout\n"
      ]
    },
    {
      "cell_type": "code",
      "execution_count": null,
      "metadata": {
        "id": "2z1hKi37eYdG"
      },
      "outputs": [],
      "source": [
        "segment_duration = 30\n",
        "n_mels = 128\n",
        "hop_length = 512\n",
        "n_fft = 1024\n"
      ]
    },
    {
      "cell_type": "code",
      "execution_count": null,
      "metadata": {
        "id": "tpaBT5Nbegtb"
      },
      "outputs": [],
      "source": [
        "images = np.array(df['Spectrograms'].tolist())\n",
        "labels = df['Labels'].tolist()\n",
        "\n",
        "label_encoder = LabelEncoder()\n",
        "encoded_labels = label_encoder.fit_transform(labels)\n",
        "\n",
        "X_train, X_test, y_train, y_test = train_test_split(images, encoded_labels, test_size=0.2, random_state=42)\n"
      ]
    },
    {
      "cell_type": "code",
      "execution_count": null,
      "metadata": {
        "id": "5exGwdgreizm"
      },
      "outputs": [],
      "source": [
        "model = Sequential([\n",
        "    Conv2D(16, (7, 7), activation='relu', input_shape=(n_mels, X_train.shape[2], 1)),\n",
        "    MaxPooling2D((2, 2)),\n",
        "    Conv2D(32, (5, 5), activation='relu'),\n",
        "    MaxPooling2D((2, 2)),\n",
        "    Conv2D(32, (3, 3), activation='relu'),\n",
        "    MaxPooling2D((2, 2)),\n",
        "    Flatten(),\n",
        "    Dense(8, activation='relu'),\n",
        "    Dropout(0.2),\n",
        "    Dense(len(label_encoder.classes_), activation='softmax')  # Camada de saída\n",
        "])\n",
        "\n",
        "model.compile(optimizer='adam', loss='sparse_categorical_crossentropy', metrics=['accuracy'])\n"
      ]
    },
    {
      "cell_type": "code",
      "execution_count": null,
      "metadata": {
        "id": "3xRVeNQdGHjV"
      },
      "outputs": [],
      "source": [
        "X_train = X_train[..., np.newaxis]\n",
        "X_test = X_test[..., np.newaxis]"
      ]
    },
    {
      "cell_type": "code",
      "execution_count": null,
      "metadata": {
        "colab": {
          "base_uri": "https://localhost:8080/"
        },
        "id": "jQp2rYIFekKG",
        "outputId": "ce6963e6-827d-4e99-89e0-56adc742923d"
      },
      "outputs": [
        {
          "name": "stdout",
          "output_type": "stream",
          "text": [
            "Epoch 1/10\n",
            "225/225 [==============================] - 188s 826ms/step - loss: 2.3334 - accuracy: 0.0984 - val_loss: 2.3030 - val_accuracy: 0.0887\n",
            "Epoch 2/10\n",
            "225/225 [==============================] - 186s 826ms/step - loss: 2.3027 - accuracy: 0.1030 - val_loss: 2.3032 - val_accuracy: 0.0887\n",
            "Epoch 3/10\n",
            "225/225 [==============================] - 187s 830ms/step - loss: 2.3027 - accuracy: 0.1030 - val_loss: 2.3035 - val_accuracy: 0.0887\n",
            "Epoch 4/10\n",
            "225/225 [==============================] - 194s 859ms/step - loss: 2.3027 - accuracy: 0.1030 - val_loss: 2.3033 - val_accuracy: 0.0887\n",
            "Epoch 5/10\n",
            "225/225 [==============================] - 192s 856ms/step - loss: 2.3027 - accuracy: 0.0980 - val_loss: 2.3035 - val_accuracy: 0.0887\n",
            "Epoch 6/10\n",
            "225/225 [==============================] - 194s 859ms/step - loss: 2.3027 - accuracy: 0.1030 - val_loss: 2.3035 - val_accuracy: 0.0887\n",
            "Epoch 7/10\n",
            "225/225 [==============================] - 187s 831ms/step - loss: 2.3027 - accuracy: 0.1011 - val_loss: 2.3036 - val_accuracy: 0.0887\n",
            "Epoch 8/10\n",
            "225/225 [==============================] - 194s 861ms/step - loss: 2.3027 - accuracy: 0.1030 - val_loss: 2.3037 - val_accuracy: 0.0887\n",
            "Epoch 9/10\n",
            "225/225 [==============================] - 189s 842ms/step - loss: 2.3027 - accuracy: 0.1003 - val_loss: 2.3038 - val_accuracy: 0.0887\n",
            "Epoch 10/10\n",
            "225/225 [==============================] - 189s 838ms/step - loss: 2.3027 - accuracy: 0.1030 - val_loss: 2.3037 - val_accuracy: 0.0887\n"
          ]
        },
        {
          "data": {
            "text/plain": [
              "<keras.callbacks.History at 0x7c227af22890>"
            ]
          },
          "execution_count": 13,
          "metadata": {},
          "output_type": "execute_result"
        }
      ],
      "source": [
        "model.fit(X_train, y_train, epochs=10, batch_size=32, validation_split=0.1)\n"
      ]
    },
    {
      "cell_type": "code",
      "execution_count": null,
      "metadata": {
        "colab": {
          "base_uri": "https://localhost:8080/"
        },
        "id": "xvhokxoofjTe",
        "outputId": "4299a470-01d4-4637-e1e2-993d505cb4dc"
      },
      "outputs": [
        {
          "name": "stdout",
          "output_type": "stream",
          "text": [
            "63/63 [==============================] - 12s 191ms/step - loss: 2.3031 - accuracy: 0.0941\n",
            "Test accuracy: 0.09409409761428833\n"
          ]
        }
      ],
      "source": [
        "test_loss, test_accuracy = model.evaluate(X_test, y_test)\n",
        "print(f\"Test accuracy: {test_accuracy}\")\n"
      ]
    },
    {
      "cell_type": "code",
      "execution_count": null,
      "metadata": {
        "id": "8dTBXkiMB8I8"
      },
      "outputs": [],
      "source": [
        "model = Sequential([\n",
        "    Conv2D(32, (3, 3), activation='relu', input_shape=(128, 130, 1)),\n",
        "    MaxPooling2D((2, 2)),\n",
        "    Conv2D(64, (3, 3), activation='relu'),\n",
        "    MaxPooling2D((2, 2)),\n",
        "    Conv2D(128, (3, 3), activation='relu'),\n",
        "    MaxPooling2D((2, 2)),\n",
        "    Flatten(),\n",
        "    Dense(256, activation='relu'),\n",
        "    Dropout(0.5),\n",
        "    Dense(128, activation='relu'),\n",
        "    Dropout(0.5),\n",
        "    Dense(10, activation='softmax')\n",
        "])\n",
        "\n",
        "model.compile(optimizer='adam', loss='sparse_categorical_crossentropy', metrics=['accuracy'])"
      ]
    },
    {
      "cell_type": "code",
      "execution_count": null,
      "metadata": {
        "colab": {
          "base_uri": "https://localhost:8080/"
        },
        "id": "MOUDO6oDCKu8",
        "outputId": "04594ee9-a674-4469-97b5-e9d83688e3bb"
      },
      "outputs": [
        {
          "name": "stdout",
          "output_type": "stream",
          "text": [
            "Epoch 1/10\n",
            "225/225 [==============================] - 269s 1s/step - loss: 2.4644 - accuracy: 0.1753 - val_loss: 1.9073 - val_accuracy: 0.3200\n",
            "Epoch 2/10\n",
            "225/225 [==============================] - 258s 1s/step - loss: 1.9126 - accuracy: 0.2988 - val_loss: 1.6963 - val_accuracy: 0.3925\n",
            "Epoch 3/10\n",
            "225/225 [==============================] - 263s 1s/step - loss: 1.8030 - accuracy: 0.3386 - val_loss: 1.6855 - val_accuracy: 0.3900\n",
            "Epoch 4/10\n",
            "225/225 [==============================] - 262s 1s/step - loss: 1.6481 - accuracy: 0.3939 - val_loss: 1.4574 - val_accuracy: 0.4975\n",
            "Epoch 5/10\n",
            "225/225 [==============================] - 260s 1s/step - loss: 1.5678 - accuracy: 0.4219 - val_loss: 1.4251 - val_accuracy: 0.4988\n",
            "Epoch 6/10\n",
            "225/225 [==============================] - 260s 1s/step - loss: 1.4998 - accuracy: 0.4575 - val_loss: 1.4104 - val_accuracy: 0.4988\n",
            "Epoch 7/10\n",
            "225/225 [==============================] - 262s 1s/step - loss: 1.4185 - accuracy: 0.4786 - val_loss: 1.2654 - val_accuracy: 0.5525\n",
            "Epoch 8/10\n",
            "225/225 [==============================] - 257s 1s/step - loss: 1.3150 - accuracy: 0.5292 - val_loss: 1.1943 - val_accuracy: 0.5800\n",
            "Epoch 9/10\n",
            "225/225 [==============================] - 255s 1s/step - loss: 1.2258 - accuracy: 0.5541 - val_loss: 1.1381 - val_accuracy: 0.5987\n",
            "Epoch 10/10\n",
            "225/225 [==============================] - 259s 1s/step - loss: 1.1405 - accuracy: 0.5897 - val_loss: 1.1829 - val_accuracy: 0.5562\n"
          ]
        },
        {
          "data": {
            "text/plain": [
              "<keras.callbacks.History at 0x7c224c6fa920>"
            ]
          },
          "execution_count": 17,
          "metadata": {},
          "output_type": "execute_result"
        }
      ],
      "source": [
        "model.fit(X_train, y_train, epochs=10, batch_size=32, validation_split=0.1)\n"
      ]
    },
    {
      "cell_type": "code",
      "execution_count": null,
      "metadata": {
        "colab": {
          "base_uri": "https://localhost:8080/"
        },
        "id": "YMXZUzB-MYvm",
        "outputId": "b703ba0c-d5a8-46d8-f99f-444084035e45"
      },
      "outputs": [
        {
          "name": "stdout",
          "output_type": "stream",
          "text": [
            "63/63 [==============================] - 18s 278ms/step - loss: 1.1776 - accuracy: 0.5736\n",
            "Test accuracy: 0.5735735893249512\n"
          ]
        }
      ],
      "source": [
        "test_loss, test_accuracy = model.evaluate(X_test, y_test)\n",
        "print(f\"Test accuracy: {test_accuracy}\")\n"
      ]
    },
    {
      "cell_type": "code",
      "execution_count": null,
      "metadata": {
        "id": "P_GyK6DRXBsC"
      },
      "outputs": [],
      "source": [
        "#df['Labels'] = pd.Categorical(df['Labels'])\n",
        "#df['Labels'] = df.Labels.cat.codes\n",
        "\n",
        "#l = df.pop('Labels')\n",
        "dataset = tf.data.Dataset.from_tensor_slices((np.array(images), l.values))"
      ]
    },
    {
      "cell_type": "code",
      "execution_count": null,
      "metadata": {
        "id": "GND14b-tcvmH"
      },
      "outputs": [],
      "source": [
        "train_dataset = dataset.shuffle(len(df)).batch(1)"
      ]
    },
    {
      "cell_type": "code",
      "execution_count": null,
      "metadata": {
        "colab": {
          "base_uri": "https://localhost:8080/"
        },
        "id": "olGbWOP5tHaG",
        "outputId": "38ad5268-8bb9-4f4a-ff6c-46d54fa1a734"
      },
      "outputs": [
        {
          "name": "stdout",
          "output_type": "stream",
          "text": [
            "Model: \"sequential_1\"\n",
            "_________________________________________________________________\n",
            " Layer (type)                Output Shape              Param #   \n",
            "=================================================================\n",
            " conv2d_3 (Conv2D)           (None, 126, 128, 32)      896       \n",
            "                                                                 \n",
            " max_pooling2d_2 (MaxPooling  (None, 31, 32, 32)       0         \n",
            " 2D)                                                             \n",
            "                                                                 \n",
            " conv2d_4 (Conv2D)           (None, 29, 30, 64)        18496     \n",
            "                                                                 \n",
            " max_pooling2d_3 (MaxPooling  (None, 7, 7, 64)         0         \n",
            " 2D)                                                             \n",
            "                                                                 \n",
            " conv2d_5 (Conv2D)           (None, 5, 5, 64)          36928     \n",
            "                                                                 \n",
            " flatten_1 (Flatten)         (None, 1600)              0         \n",
            "                                                                 \n",
            " dense_2 (Dense)             (None, 64)                102464    \n",
            "                                                                 \n",
            " dense_3 (Dense)             (None, 10)                650       \n",
            "                                                                 \n",
            "=================================================================\n",
            "Total params: 159,434\n",
            "Trainable params: 159,434\n",
            "Non-trainable params: 0\n",
            "_________________________________________________________________\n"
          ]
        }
      ],
      "source": [
        "from tensorflow.keras import datasets, layers, models\n",
        "\n",
        "model = models.Sequential()\n",
        "model.add(layers.Conv2D(32, (3, 3), activation='relu', input_shape=(128, 130, 3)))\n",
        "model.add(layers.MaxPooling2D((4, 4)))\n",
        "model.add(layers.Conv2D(64, (3, 3), activation='relu'))\n",
        "model.add(layers.MaxPooling2D((4, 4)))\n",
        "model.add(layers.Conv2D(64, (3, 3), activation='relu'))\n",
        "model.add(layers.Flatten())\n",
        "model.add(layers.Dense(64, activation='relu'))\n",
        "model.add(layers.Dense(10))\n",
        "model.summary()"
      ]
    },
    {
      "cell_type": "code",
      "execution_count": null,
      "metadata": {
        "id": "YNNz4GnPPIhn"
      },
      "outputs": [],
      "source": [
        "import tensorflow as tf"
      ]
    },
    {
      "cell_type": "code",
      "execution_count": null,
      "metadata": {
        "colab": {
          "base_uri": "https://localhost:8080/"
        },
        "id": "uXxdAh0vMqav",
        "outputId": "af275211-6ccb-49ab-9d15-6a474df45544"
      },
      "outputs": [
        {
          "name": "stdout",
          "output_type": "stream",
          "text": [
            "Model: \"sequential_9\"\n",
            "_________________________________________________________________\n",
            " Layer (type)                Output Shape              Param #   \n",
            "=================================================================\n",
            " conv2d_18 (Conv2D)          (None, 124, 126, 32)      832       \n",
            "                                                                 \n",
            " max_pooling2d_18 (MaxPoolin  (None, 62, 63, 32)       0         \n",
            " g2D)                                                            \n",
            "                                                                 \n",
            " conv2d_19 (Conv2D)          (None, 60, 61, 64)        18496     \n",
            "                                                                 \n",
            " max_pooling2d_19 (MaxPoolin  (None, 30, 30, 64)       0         \n",
            " g2D)                                                            \n",
            "                                                                 \n",
            " flatten_9 (Flatten)         (None, 57600)             0         \n",
            "                                                                 \n",
            " dense_18 (Dense)            (None, 64)                3686464   \n",
            "                                                                 \n",
            " dense_19 (Dense)            (None, 10)                650       \n",
            "                                                                 \n",
            "=================================================================\n",
            "Total params: 3,706,442\n",
            "Trainable params: 3,706,442\n",
            "Non-trainable params: 0\n",
            "_________________________________________________________________\n"
          ]
        }
      ],
      "source": [
        "model = Sequential([\n",
        "    Conv2D(32, (5, 5),1, activation='relu', input_shape=(128, 130, 1)),\n",
        "    MaxPooling2D(),\n",
        "    Conv2D(64, (3, 3),1, activation='relu'),\n",
        "    MaxPooling2D(),\n",
        "    Flatten(),\n",
        "    Dense(64, activation='relu'),\n",
        "    Dense(10, activation='softmax')\n",
        "])\n",
        "model.summary()\n",
        "model.compile(optimizer='adam', loss='sparse_categorical_crossentropy', metrics=['accuracy'])"
      ]
    },
    {
      "cell_type": "code",
      "execution_count": null,
      "metadata": {
        "colab": {
          "base_uri": "https://localhost:8080/"
        },
        "id": "6ARsl5tdNZ1Y",
        "outputId": "3b664dee-7038-4475-9fb4-7b9080941fd9"
      },
      "outputs": [
        {
          "name": "stdout",
          "output_type": "stream",
          "text": [
            "Epoch 1/20\n",
            "225/225 [==============================] - 6s 16ms/step - loss: 4.2443 - accuracy: 0.3152 - val_loss: 1.5380 - val_accuracy: 0.4425\n",
            "Epoch 2/20\n",
            "225/225 [==============================] - 3s 13ms/step - loss: 1.3862 - accuracy: 0.4860 - val_loss: 1.2778 - val_accuracy: 0.5175\n",
            "Epoch 3/20\n",
            "225/225 [==============================] - 3s 13ms/step - loss: 1.1699 - accuracy: 0.5652 - val_loss: 1.1349 - val_accuracy: 0.6050\n",
            "Epoch 4/20\n",
            "225/225 [==============================] - 3s 13ms/step - loss: 0.9225 - accuracy: 0.6585 - val_loss: 1.0444 - val_accuracy: 0.6513\n",
            "Epoch 5/20\n",
            "225/225 [==============================] - 3s 13ms/step - loss: 0.7569 - accuracy: 0.7229 - val_loss: 1.1817 - val_accuracy: 0.6050\n",
            "Epoch 6/20\n",
            "225/225 [==============================] - 3s 13ms/step - loss: 0.5926 - accuracy: 0.7845 - val_loss: 1.0747 - val_accuracy: 0.6725\n",
            "Epoch 7/20\n",
            "225/225 [==============================] - 3s 13ms/step - loss: 0.4456 - accuracy: 0.8404 - val_loss: 1.1618 - val_accuracy: 0.6400\n",
            "Epoch 8/20\n",
            "225/225 [==============================] - 3s 13ms/step - loss: 0.3280 - accuracy: 0.8895 - val_loss: 1.5734 - val_accuracy: 0.6187\n",
            "Epoch 9/20\n",
            "225/225 [==============================] - 3s 13ms/step - loss: 0.2333 - accuracy: 0.9192 - val_loss: 1.4142 - val_accuracy: 0.6662\n",
            "Epoch 10/20\n",
            "225/225 [==============================] - 3s 13ms/step - loss: 0.1710 - accuracy: 0.9444 - val_loss: 1.5805 - val_accuracy: 0.6725\n",
            "Epoch 11/20\n",
            "225/225 [==============================] - 3s 13ms/step - loss: 0.1655 - accuracy: 0.9441 - val_loss: 1.7511 - val_accuracy: 0.6338\n",
            "Epoch 12/20\n",
            "225/225 [==============================] - 3s 13ms/step - loss: 0.1179 - accuracy: 0.9609 - val_loss: 1.7025 - val_accuracy: 0.6700\n",
            "Epoch 13/20\n",
            "225/225 [==============================] - 3s 13ms/step - loss: 0.0799 - accuracy: 0.9758 - val_loss: 2.2199 - val_accuracy: 0.6513\n",
            "Epoch 14/20\n",
            "225/225 [==============================] - 3s 13ms/step - loss: 0.0476 - accuracy: 0.9867 - val_loss: 2.1552 - val_accuracy: 0.6687\n",
            "Epoch 15/20\n",
            "225/225 [==============================] - 3s 13ms/step - loss: 0.0288 - accuracy: 0.9935 - val_loss: 2.2708 - val_accuracy: 0.6675\n",
            "Epoch 16/20\n",
            "225/225 [==============================] - 3s 13ms/step - loss: 0.0842 - accuracy: 0.9714 - val_loss: 2.3619 - val_accuracy: 0.6425\n",
            "Epoch 17/20\n",
            "225/225 [==============================] - 3s 13ms/step - loss: 0.1665 - accuracy: 0.9456 - val_loss: 2.6961 - val_accuracy: 0.5888\n",
            "Epoch 18/20\n",
            "225/225 [==============================] - 4s 18ms/step - loss: 0.1282 - accuracy: 0.9580 - val_loss: 2.5899 - val_accuracy: 0.6488\n",
            "Epoch 19/20\n",
            "225/225 [==============================] - 3s 13ms/step - loss: 0.1334 - accuracy: 0.9562 - val_loss: 1.9744 - val_accuracy: 0.6750\n",
            "Epoch 20/20\n",
            "225/225 [==============================] - 3s 13ms/step - loss: 0.0655 - accuracy: 0.9803 - val_loss: 2.5484 - val_accuracy: 0.6425\n"
          ]
        },
        {
          "data": {
            "text/plain": [
              "<keras.callbacks.History at 0x79582767aa40>"
            ]
          },
          "execution_count": 38,
          "metadata": {},
          "output_type": "execute_result"
        }
      ],
      "source": [
        "model.fit(X_train, y_train, epochs=20, batch_size=32, validation_split=0.1)\n"
      ]
    },
    {
      "cell_type": "code",
      "execution_count": null,
      "metadata": {
        "colab": {
          "base_uri": "https://localhost:8080/"
        },
        "id": "hXSTxTDcVS6x",
        "outputId": "77ca9aa0-76f6-4831-afda-d19e1e5feae2"
      },
      "outputs": [
        {
          "name": "stdout",
          "output_type": "stream",
          "text": [
            "63/63 [==============================] - 1s 8ms/step - loss: 2.6471 - accuracy: 0.6266\n",
            "Test accuracy: 0.6266266107559204\n"
          ]
        }
      ],
      "source": [
        "test_loss, test_accuracy = model.evaluate(X_test, y_test)\n",
        "print(f\"Test accuracy: {test_accuracy}\")\n"
      ]
    },
    {
      "cell_type": "code",
      "execution_count": null,
      "metadata": {
        "colab": {
          "base_uri": "https://localhost:8080/"
        },
        "id": "p3fSnO7Cbavi",
        "outputId": "873425c0-b446-448e-d37a-29eeabae100b"
      },
      "outputs": [
        {
          "name": "stdout",
          "output_type": "stream",
          "text": [
            "Model: \"sequential\"\n",
            "_________________________________________________________________\n",
            " Layer (type)                Output Shape              Param #   \n",
            "=================================================================\n",
            " conv2d (Conv2D)             (None, 124, 126, 32)      832       \n",
            "                                                                 \n",
            " max_pooling2d (MaxPooling2D  (None, 62, 63, 32)       0         \n",
            " )                                                               \n",
            "                                                                 \n",
            " conv2d_1 (Conv2D)           (None, 60, 61, 64)        18496     \n",
            "                                                                 \n",
            " max_pooling2d_1 (MaxPooling  (None, 30, 30, 64)       0         \n",
            " 2D)                                                             \n",
            "                                                                 \n",
            " flatten (Flatten)           (None, 57600)             0         \n",
            "                                                                 \n",
            " dense (Dense)               (None, 32)                1843232   \n",
            "                                                                 \n",
            " dense_1 (Dense)             (None, 64)                2112      \n",
            "                                                                 \n",
            " dense_2 (Dense)             (None, 10)                650       \n",
            "                                                                 \n",
            "=================================================================\n",
            "Total params: 1,865,322\n",
            "Trainable params: 1,865,322\n",
            "Non-trainable params: 0\n",
            "_________________________________________________________________\n"
          ]
        }
      ],
      "source": [
        "model1 = Sequential([\n",
        "    Conv2D(32, (5, 5),1, activation='relu', input_shape=(128, 130, 1)),\n",
        "    MaxPooling2D(),\n",
        "    Conv2D(64, (3, 3),1, activation='relu'),\n",
        "    MaxPooling2D(),\n",
        "    Flatten(),\n",
        "    Dense(32, activation='relu'),\n",
        "    Dense(64, activation='relu'),\n",
        "\n",
        "    Dense(10, activation='softmax')\n",
        "])\n",
        "model1.summary()\n",
        "model1.compile(optimizer='adam', loss='sparse_categorical_crossentropy', metrics=['accuracy'])"
      ]
    },
    {
      "cell_type": "code",
      "execution_count": null,
      "metadata": {
        "colab": {
          "base_uri": "https://localhost:8080/"
        },
        "id": "3z1NaiAPbdJ6",
        "outputId": "eb531a1d-997b-4f38-b009-fdb20079221a"
      },
      "outputs": [
        {
          "name": "stdout",
          "output_type": "stream",
          "text": [
            "Epoch 1/10\n",
            "225/225 [==============================] - 15s 16ms/step - loss: 2.7242 - accuracy: 0.3098 - val_loss: 1.4313 - val_accuracy: 0.4850\n",
            "Epoch 2/10\n",
            "225/225 [==============================] - 3s 14ms/step - loss: 1.2250 - accuracy: 0.5715 - val_loss: 1.2907 - val_accuracy: 0.5587\n",
            "Epoch 3/10\n",
            "225/225 [==============================] - 3s 12ms/step - loss: 0.9000 - accuracy: 0.6853 - val_loss: 1.1498 - val_accuracy: 0.6112\n",
            "Epoch 4/10\n",
            "225/225 [==============================] - 3s 12ms/step - loss: 0.6856 - accuracy: 0.7592 - val_loss: 1.0642 - val_accuracy: 0.6350\n",
            "Epoch 5/10\n",
            "225/225 [==============================] - 3s 13ms/step - loss: 0.4384 - accuracy: 0.8546 - val_loss: 1.1062 - val_accuracy: 0.6525\n",
            "Epoch 6/10\n",
            "225/225 [==============================] - 3s 13ms/step - loss: 0.2934 - accuracy: 0.9050 - val_loss: 1.3085 - val_accuracy: 0.6450\n",
            "Epoch 7/10\n",
            "225/225 [==============================] - 3s 12ms/step - loss: 0.2153 - accuracy: 0.9271 - val_loss: 1.2525 - val_accuracy: 0.6538\n",
            "Epoch 8/10\n",
            "225/225 [==============================] - 3s 12ms/step - loss: 0.1554 - accuracy: 0.9492 - val_loss: 1.5936 - val_accuracy: 0.6475\n",
            "Epoch 9/10\n",
            "225/225 [==============================] - 3s 12ms/step - loss: 0.0647 - accuracy: 0.9786 - val_loss: 1.7165 - val_accuracy: 0.6750\n",
            "Epoch 10/10\n",
            "225/225 [==============================] - 3s 14ms/step - loss: 0.0887 - accuracy: 0.9711 - val_loss: 1.7964 - val_accuracy: 0.6587\n"
          ]
        },
        {
          "data": {
            "text/plain": [
              "<keras.callbacks.History at 0x7885c05dee00>"
            ]
          },
          "execution_count": 9,
          "metadata": {},
          "output_type": "execute_result"
        }
      ],
      "source": [
        "model1.fit(X_train, y_train, epochs=10, batch_size=32, validation_split=0.1)"
      ]
    },
    {
      "cell_type": "code",
      "execution_count": null,
      "metadata": {
        "colab": {
          "base_uri": "https://localhost:8080/"
        },
        "id": "MhT349pHwyYj",
        "outputId": "e5686758-cd4c-4c00-ad70-330949b9df27"
      },
      "outputs": [
        {
          "name": "stdout",
          "output_type": "stream",
          "text": [
            "63/63 [==============================] - 1s 7ms/step - loss: 1.7618 - accuracy: 0.6772\n",
            "Test accuracy: 0.6771771907806396\n"
          ]
        }
      ],
      "source": [
        "test_loss, test_accuracy = model1.evaluate(X_test, y_test)\n",
        "print(f\"Test accuracy: {test_accuracy}\")\n"
      ]
    },
    {
      "cell_type": "code",
      "execution_count": null,
      "metadata": {
        "colab": {
          "base_uri": "https://localhost:8080/"
        },
        "id": "Ynlsuygr0B_t",
        "outputId": "b90d09da-ad0d-458a-cb19-a7135b6a5f76"
      },
      "outputs": [
        {
          "name": "stdout",
          "output_type": "stream",
          "text": [
            "Model: \"sequential_8\"\n",
            "_________________________________________________________________\n",
            " Layer (type)                Output Shape              Param #   \n",
            "=================================================================\n",
            " conv2d_16 (Conv2D)          (None, 124, 9, 32)        832       \n",
            "                                                                 \n",
            " max_pooling2d_16 (MaxPoolin  (None, 62, 4, 32)        0         \n",
            " g2D)                                                            \n",
            "                                                                 \n",
            " conv2d_17 (Conv2D)          (None, 60, 2, 64)         18496     \n",
            "                                                                 \n",
            " max_pooling2d_17 (MaxPoolin  (None, 30, 1, 64)        0         \n",
            " g2D)                                                            \n",
            "                                                                 \n",
            " flatten_8 (Flatten)         (None, 1920)              0         \n",
            "                                                                 \n",
            " dense_23 (Dense)            (None, 256)               491776    \n",
            "                                                                 \n",
            " dense_24 (Dense)            (None, 10)                2570      \n",
            "                                                                 \n",
            "=================================================================\n",
            "Total params: 513,674\n",
            "Trainable params: 513,674\n",
            "Non-trainable params: 0\n",
            "_________________________________________________________________\n"
          ]
        }
      ],
      "source": [
        "model2 = Sequential([\n",
        "    Conv2D(32, (5, 5),1, activation='relu', input_shape=(128, 13, 1)),\n",
        "    MaxPooling2D(),\n",
        "    Conv2D(64, (3, 3),1, activation='relu'),\n",
        "    MaxPooling2D(),\n",
        "    Flatten(),\n",
        "    Dense(256, activation='relu'),\n",
        "    Dense(10, activation='softmax')\n",
        "])\n",
        "model2.summary()\n",
        "model2.compile(optimizer='adam', loss='sparse_categorical_crossentropy', metrics=['accuracy'])"
      ]
    },
    {
      "cell_type": "code",
      "execution_count": null,
      "metadata": {
        "colab": {
          "base_uri": "https://localhost:8080/"
        },
        "id": "dntByqAR0Jw1",
        "outputId": "8ccae0de-ff00-491a-c9fc-88f0a6240903"
      },
      "outputs": [
        {
          "name": "stdout",
          "output_type": "stream",
          "text": [
            "Epoch 1/10\n",
            "1124/1124 [==============================] - 7s 4ms/step - loss: 1.5678 - accuracy: 0.4542 - val_loss: 1.2186 - val_accuracy: 0.5651\n",
            "Epoch 2/10\n",
            "1124/1124 [==============================] - 5s 4ms/step - loss: 1.1311 - accuracy: 0.5997 - val_loss: 1.0940 - val_accuracy: 0.6176\n",
            "Epoch 3/10\n",
            "1124/1124 [==============================] - 5s 4ms/step - loss: 0.9436 - accuracy: 0.6698 - val_loss: 0.9653 - val_accuracy: 0.6687\n",
            "Epoch 4/10\n",
            "1124/1124 [==============================] - 4s 4ms/step - loss: 0.8090 - accuracy: 0.7150 - val_loss: 0.8751 - val_accuracy: 0.6909\n",
            "Epoch 5/10\n",
            "1124/1124 [==============================] - 6s 5ms/step - loss: 0.6831 - accuracy: 0.7605 - val_loss: 0.8772 - val_accuracy: 0.7102\n",
            "Epoch 6/10\n",
            "1124/1124 [==============================] - 5s 4ms/step - loss: 0.5839 - accuracy: 0.7940 - val_loss: 0.8535 - val_accuracy: 0.7150\n",
            "Epoch 7/10\n",
            "1124/1124 [==============================] - 4s 4ms/step - loss: 0.5009 - accuracy: 0.8226 - val_loss: 0.8451 - val_accuracy: 0.7362\n",
            "Epoch 8/10\n",
            "1124/1124 [==============================] - 5s 5ms/step - loss: 0.4199 - accuracy: 0.8544 - val_loss: 1.0851 - val_accuracy: 0.6752\n",
            "Epoch 9/10\n",
            "1124/1124 [==============================] - 5s 4ms/step - loss: 0.3636 - accuracy: 0.8719 - val_loss: 0.9997 - val_accuracy: 0.7310\n",
            "Epoch 10/10\n",
            "1124/1124 [==============================] - 5s 4ms/step - loss: 0.3122 - accuracy: 0.8906 - val_loss: 1.0041 - val_accuracy: 0.7462\n"
          ]
        },
        {
          "data": {
            "text/plain": [
              "<keras.callbacks.History at 0x78860e6f7df0>"
            ]
          },
          "execution_count": 46,
          "metadata": {},
          "output_type": "execute_result"
        }
      ],
      "source": [
        "model2.fit(X_train, y_train, epochs=10, batch_size=32, validation_split=0.1)"
      ]
    },
    {
      "cell_type": "code",
      "execution_count": null,
      "metadata": {
        "colab": {
          "base_uri": "https://localhost:8080/"
        },
        "id": "Uhh4btbd0VFn",
        "outputId": "36874227-a358-45c4-b96a-d620358be008"
      },
      "outputs": [
        {
          "name": "stdout",
          "output_type": "stream",
          "text": [
            "313/313 [==============================] - 1s 3ms/step - loss: 1.0044 - accuracy: 0.7364\n",
            "Test accuracy: 0.7364364266395569\n"
          ]
        }
      ],
      "source": [
        "test_loss, test_accuracy = model2.evaluate(X_test, y_test)\n",
        "print(f\"Test accuracy: {test_accuracy}\")\n"
      ]
    },
    {
      "cell_type": "code",
      "execution_count": null,
      "metadata": {
        "colab": {
          "base_uri": "https://localhost:8080/"
        },
        "id": "_z3_qEYo7KI1",
        "outputId": "6bca48c0-e3f0-4638-82ff-efddfbf0809d"
      },
      "outputs": [
        {
          "name": "stdout",
          "output_type": "stream",
          "text": [
            "Model: \"sequential_23\"\n",
            "_________________________________________________________________\n",
            " Layer (type)                Output Shape              Param #   \n",
            "=================================================================\n",
            " conv2d_53 (Conv2D)          (None, 126, 128, 32)      320       \n",
            "                                                                 \n",
            " max_pooling2d_53 (MaxPoolin  (None, 63, 64, 32)       0         \n",
            " g2D)                                                            \n",
            "                                                                 \n",
            " conv2d_54 (Conv2D)          (None, 61, 62, 64)        18496     \n",
            "                                                                 \n",
            " max_pooling2d_54 (MaxPoolin  (None, 30, 31, 64)       0         \n",
            " g2D)                                                            \n",
            "                                                                 \n",
            " flatten_23 (Flatten)        (None, 59520)             0         \n",
            "                                                                 \n",
            " dense_47 (Dense)            (None, 64)                3809344   \n",
            "                                                                 \n",
            " dense_48 (Dense)            (None, 10)                650       \n",
            "                                                                 \n",
            "=================================================================\n",
            "Total params: 3,828,810\n",
            "Trainable params: 3,828,810\n",
            "Non-trainable params: 0\n",
            "_________________________________________________________________\n"
          ]
        }
      ],
      "source": [
        "model2 = Sequential([\n",
        "    Conv2D(32, (3, 3),1, activation='relu', input_shape=(128, 130, 1)),\n",
        "    MaxPooling2D(),\n",
        "\n",
        "    Conv2D(64, (3, 3),1, activation='relu'),\n",
        "    MaxPooling2D(),\n",
        "    Flatten(),\n",
        "    Dense(64, activation='relu'),\n",
        "\n",
        "\n",
        "    Dense(10, activation='softmax')\n",
        "])\n",
        "model2.summary()\n",
        "model2.compile(optimizer='adam', loss='sparse_categorical_crossentropy', metrics=['accuracy'])"
      ]
    },
    {
      "cell_type": "code",
      "execution_count": null,
      "metadata": {
        "id": "avgMX1oi8bIL"
      },
      "outputs": [],
      "source": [
        "model2.fit(X_train, y_train, epochs=10, batch_size=32, validation_split=0.1)"
      ]
    },
    {
      "cell_type": "code",
      "execution_count": null,
      "metadata": {
        "colab": {
          "base_uri": "https://localhost:8080/"
        },
        "id": "xso-_Vpf-ERa",
        "outputId": "e8a28eaf-089c-441b-f47f-0e02c894a919"
      },
      "outputs": [
        {
          "name": "stdout",
          "output_type": "stream",
          "text": [
            "63/63 [==============================] - 0s 6ms/step - loss: 1.9052 - accuracy: 0.6812\n",
            "Test accuracy: 0.6811811923980713\n"
          ]
        }
      ],
      "source": [
        "test_loss, test_accuracy = model2.evaluate(X_test, y_test)\n",
        "print(f\"Test accuracy: {test_accuracy}\")\n"
      ]
    }
  ],
  "metadata": {
    "accelerator": "GPU",
    "colab": {
      "provenance": []
    },
    "kernelspec": {
      "display_name": "Python 3",
      "name": "python3"
    },
    "language_info": {
      "name": "python"
    }
  },
  "nbformat": 4,
  "nbformat_minor": 0
}
